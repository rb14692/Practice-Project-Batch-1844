{
 "cells": [
  {
   "cell_type": "code",
   "execution_count": 1,
   "id": "efd90463",
   "metadata": {},
   "outputs": [],
   "source": [
    "# Problem Statement : Predict the salary of the employee using the features provided in the data."
   ]
  },
  {
   "cell_type": "code",
   "execution_count": 2,
   "id": "f101f202",
   "metadata": {},
   "outputs": [],
   "source": [
    "# First of all import all the required libraries like pandas, numpy, seaborn, sklearn, matplotlib etc. And load the data (Salaries.csv file) from GITHUB link (https://raw.githubusercontent.com/dsrscientist/dataset3/main/Salaries.csv) to train the model and test the model and show the top five rows of  employee data. Data stores two features: YearExperience and Salary. Take the year of experience as an input feature and the salary feature as an output"
   ]
  },
  {
   "cell_type": "code",
   "execution_count": 3,
   "id": "bb066120",
   "metadata": {},
   "outputs": [],
   "source": [
    "# Import Required Libraries/Datasets"
   ]
  },
  {
   "cell_type": "code",
   "execution_count": 7,
   "id": "a129c08d",
   "metadata": {},
   "outputs": [],
   "source": [
    "import pandas as pd\n",
    "import numpy as np"
   ]
  },
  {
   "cell_type": "code",
   "execution_count": 10,
   "id": "1a4d132c",
   "metadata": {},
   "outputs": [],
   "source": [
    "df = pd.read_csv('https://raw.githubusercontent.com/dsrscientist/dataset3/main/Salaries.csv')"
   ]
  },
  {
   "cell_type": "code",
   "execution_count": 11,
   "id": "d820bcac",
   "metadata": {},
   "outputs": [
    {
     "data": {
      "text/html": [
       "<div>\n",
       "<style scoped>\n",
       "    .dataframe tbody tr th:only-of-type {\n",
       "        vertical-align: middle;\n",
       "    }\n",
       "\n",
       "    .dataframe tbody tr th {\n",
       "        vertical-align: top;\n",
       "    }\n",
       "\n",
       "    .dataframe thead th {\n",
       "        text-align: right;\n",
       "    }\n",
       "</style>\n",
       "<table border=\"1\" class=\"dataframe\">\n",
       "  <thead>\n",
       "    <tr style=\"text-align: right;\">\n",
       "      <th></th>\n",
       "      <th>rank</th>\n",
       "      <th>discipline</th>\n",
       "      <th>yrs.since.phd</th>\n",
       "      <th>yrs.service</th>\n",
       "      <th>sex</th>\n",
       "      <th>salary</th>\n",
       "    </tr>\n",
       "  </thead>\n",
       "  <tbody>\n",
       "    <tr>\n",
       "      <th>0</th>\n",
       "      <td>Prof</td>\n",
       "      <td>B</td>\n",
       "      <td>19</td>\n",
       "      <td>18</td>\n",
       "      <td>Male</td>\n",
       "      <td>139750</td>\n",
       "    </tr>\n",
       "    <tr>\n",
       "      <th>1</th>\n",
       "      <td>Prof</td>\n",
       "      <td>B</td>\n",
       "      <td>20</td>\n",
       "      <td>16</td>\n",
       "      <td>Male</td>\n",
       "      <td>173200</td>\n",
       "    </tr>\n",
       "    <tr>\n",
       "      <th>2</th>\n",
       "      <td>AsstProf</td>\n",
       "      <td>B</td>\n",
       "      <td>4</td>\n",
       "      <td>3</td>\n",
       "      <td>Male</td>\n",
       "      <td>79750</td>\n",
       "    </tr>\n",
       "    <tr>\n",
       "      <th>3</th>\n",
       "      <td>Prof</td>\n",
       "      <td>B</td>\n",
       "      <td>45</td>\n",
       "      <td>39</td>\n",
       "      <td>Male</td>\n",
       "      <td>115000</td>\n",
       "    </tr>\n",
       "    <tr>\n",
       "      <th>4</th>\n",
       "      <td>Prof</td>\n",
       "      <td>B</td>\n",
       "      <td>40</td>\n",
       "      <td>41</td>\n",
       "      <td>Male</td>\n",
       "      <td>141500</td>\n",
       "    </tr>\n",
       "    <tr>\n",
       "      <th>...</th>\n",
       "      <td>...</td>\n",
       "      <td>...</td>\n",
       "      <td>...</td>\n",
       "      <td>...</td>\n",
       "      <td>...</td>\n",
       "      <td>...</td>\n",
       "    </tr>\n",
       "    <tr>\n",
       "      <th>392</th>\n",
       "      <td>Prof</td>\n",
       "      <td>A</td>\n",
       "      <td>33</td>\n",
       "      <td>30</td>\n",
       "      <td>Male</td>\n",
       "      <td>103106</td>\n",
       "    </tr>\n",
       "    <tr>\n",
       "      <th>393</th>\n",
       "      <td>Prof</td>\n",
       "      <td>A</td>\n",
       "      <td>31</td>\n",
       "      <td>19</td>\n",
       "      <td>Male</td>\n",
       "      <td>150564</td>\n",
       "    </tr>\n",
       "    <tr>\n",
       "      <th>394</th>\n",
       "      <td>Prof</td>\n",
       "      <td>A</td>\n",
       "      <td>42</td>\n",
       "      <td>25</td>\n",
       "      <td>Male</td>\n",
       "      <td>101738</td>\n",
       "    </tr>\n",
       "    <tr>\n",
       "      <th>395</th>\n",
       "      <td>Prof</td>\n",
       "      <td>A</td>\n",
       "      <td>25</td>\n",
       "      <td>15</td>\n",
       "      <td>Male</td>\n",
       "      <td>95329</td>\n",
       "    </tr>\n",
       "    <tr>\n",
       "      <th>396</th>\n",
       "      <td>AsstProf</td>\n",
       "      <td>A</td>\n",
       "      <td>8</td>\n",
       "      <td>4</td>\n",
       "      <td>Male</td>\n",
       "      <td>81035</td>\n",
       "    </tr>\n",
       "  </tbody>\n",
       "</table>\n",
       "<p>397 rows × 6 columns</p>\n",
       "</div>"
      ],
      "text/plain": [
       "         rank discipline  yrs.since.phd  yrs.service   sex  salary\n",
       "0        Prof          B             19           18  Male  139750\n",
       "1        Prof          B             20           16  Male  173200\n",
       "2    AsstProf          B              4            3  Male   79750\n",
       "3        Prof          B             45           39  Male  115000\n",
       "4        Prof          B             40           41  Male  141500\n",
       "..        ...        ...            ...          ...   ...     ...\n",
       "392      Prof          A             33           30  Male  103106\n",
       "393      Prof          A             31           19  Male  150564\n",
       "394      Prof          A             42           25  Male  101738\n",
       "395      Prof          A             25           15  Male   95329\n",
       "396  AsstProf          A              8            4  Male   81035\n",
       "\n",
       "[397 rows x 6 columns]"
      ]
     },
     "execution_count": 11,
     "metadata": {},
     "output_type": "execute_result"
    }
   ],
   "source": [
    "df"
   ]
  },
  {
   "cell_type": "code",
   "execution_count": 5,
   "id": "122bc477",
   "metadata": {},
   "outputs": [],
   "source": [
    "# Here size of dataset is 397 rows and 6 columns and the target variable is salary which shows continous data hence this is regression problem"
   ]
  },
  {
   "cell_type": "code",
   "execution_count": 12,
   "id": "eac9802d",
   "metadata": {},
   "outputs": [
    {
     "data": {
      "text/plain": [
       "Index(['rank', 'discipline', 'yrs.since.phd', 'yrs.service', 'sex', 'salary'], dtype='object')"
      ]
     },
     "execution_count": 12,
     "metadata": {},
     "output_type": "execute_result"
    }
   ],
   "source": [
    "df.columns"
   ]
  },
  {
   "cell_type": "code",
   "execution_count": 10,
   "id": "ce0311bc",
   "metadata": {},
   "outputs": [
    {
     "data": {
      "text/plain": [
       "(397, 6)"
      ]
     },
     "execution_count": 10,
     "metadata": {},
     "output_type": "execute_result"
    }
   ],
   "source": [
    "df.shape"
   ]
  },
  {
   "cell_type": "code",
   "execution_count": 13,
   "id": "98916792",
   "metadata": {},
   "outputs": [
    {
     "data": {
      "text/html": [
       "<div>\n",
       "<style scoped>\n",
       "    .dataframe tbody tr th:only-of-type {\n",
       "        vertical-align: middle;\n",
       "    }\n",
       "\n",
       "    .dataframe tbody tr th {\n",
       "        vertical-align: top;\n",
       "    }\n",
       "\n",
       "    .dataframe thead th {\n",
       "        text-align: right;\n",
       "    }\n",
       "</style>\n",
       "<table border=\"1\" class=\"dataframe\">\n",
       "  <thead>\n",
       "    <tr style=\"text-align: right;\">\n",
       "      <th></th>\n",
       "      <th>rank</th>\n",
       "      <th>discipline</th>\n",
       "      <th>yrs.since.phd</th>\n",
       "      <th>yrs.service</th>\n",
       "      <th>sex</th>\n",
       "      <th>salary</th>\n",
       "    </tr>\n",
       "  </thead>\n",
       "  <tbody>\n",
       "    <tr>\n",
       "      <th>0</th>\n",
       "      <td>Prof</td>\n",
       "      <td>B</td>\n",
       "      <td>19</td>\n",
       "      <td>18</td>\n",
       "      <td>Male</td>\n",
       "      <td>139750</td>\n",
       "    </tr>\n",
       "    <tr>\n",
       "      <th>1</th>\n",
       "      <td>Prof</td>\n",
       "      <td>B</td>\n",
       "      <td>20</td>\n",
       "      <td>16</td>\n",
       "      <td>Male</td>\n",
       "      <td>173200</td>\n",
       "    </tr>\n",
       "    <tr>\n",
       "      <th>2</th>\n",
       "      <td>AsstProf</td>\n",
       "      <td>B</td>\n",
       "      <td>4</td>\n",
       "      <td>3</td>\n",
       "      <td>Male</td>\n",
       "      <td>79750</td>\n",
       "    </tr>\n",
       "    <tr>\n",
       "      <th>3</th>\n",
       "      <td>Prof</td>\n",
       "      <td>B</td>\n",
       "      <td>45</td>\n",
       "      <td>39</td>\n",
       "      <td>Male</td>\n",
       "      <td>115000</td>\n",
       "    </tr>\n",
       "    <tr>\n",
       "      <th>4</th>\n",
       "      <td>Prof</td>\n",
       "      <td>B</td>\n",
       "      <td>40</td>\n",
       "      <td>41</td>\n",
       "      <td>Male</td>\n",
       "      <td>141500</td>\n",
       "    </tr>\n",
       "  </tbody>\n",
       "</table>\n",
       "</div>"
      ],
      "text/plain": [
       "       rank discipline  yrs.since.phd  yrs.service   sex  salary\n",
       "0      Prof          B             19           18  Male  139750\n",
       "1      Prof          B             20           16  Male  173200\n",
       "2  AsstProf          B              4            3  Male   79750\n",
       "3      Prof          B             45           39  Male  115000\n",
       "4      Prof          B             40           41  Male  141500"
      ]
     },
     "execution_count": 13,
     "metadata": {},
     "output_type": "execute_result"
    }
   ],
   "source": [
    "df.head()"
   ]
  },
  {
   "cell_type": "code",
   "execution_count": 13,
   "id": "71e2c79c",
   "metadata": {},
   "outputs": [],
   "source": [
    "# Performing EDA # Checking Null Values in Dataframe"
   ]
  },
  {
   "cell_type": "code",
   "execution_count": 14,
   "id": "24fece22",
   "metadata": {},
   "outputs": [
    {
     "data": {
      "text/plain": [
       "rank             0\n",
       "discipline       0\n",
       "yrs.since.phd    0\n",
       "yrs.service      0\n",
       "sex              0\n",
       "salary           0\n",
       "dtype: int64"
      ]
     },
     "execution_count": 14,
     "metadata": {},
     "output_type": "execute_result"
    }
   ],
   "source": [
    "df.isnull().sum()"
   ]
  },
  {
   "cell_type": "code",
   "execution_count": 15,
   "id": "8c64b0f8",
   "metadata": {},
   "outputs": [
    {
     "data": {
      "text/plain": [
       "Index(['rank', 'discipline', 'yrs.since.phd', 'yrs.service', 'sex', 'salary'], dtype='object')"
      ]
     },
     "execution_count": 15,
     "metadata": {},
     "output_type": "execute_result"
    }
   ],
   "source": [
    "df.columns"
   ]
  },
  {
   "cell_type": "code",
   "execution_count": 17,
   "id": "60d4a5d6",
   "metadata": {},
   "outputs": [],
   "source": [
    "# since there are no null values present in dataset, we can proceed"
   ]
  },
  {
   "cell_type": "code",
   "execution_count": 18,
   "id": "3e9bcced",
   "metadata": {},
   "outputs": [],
   "source": [
    "# Checking the datatypes of columns"
   ]
  },
  {
   "cell_type": "code",
   "execution_count": 16,
   "id": "cb7ea6e9",
   "metadata": {},
   "outputs": [
    {
     "data": {
      "text/plain": [
       "rank             object\n",
       "discipline       object\n",
       "yrs.since.phd     int64\n",
       "yrs.service       int64\n",
       "sex              object\n",
       "salary            int64\n",
       "dtype: object"
      ]
     },
     "execution_count": 16,
     "metadata": {},
     "output_type": "execute_result"
    }
   ],
   "source": [
    "df.dtypes"
   ]
  },
  {
   "cell_type": "code",
   "execution_count": 17,
   "id": "b08492bb",
   "metadata": {},
   "outputs": [
    {
     "name": "stdout",
     "output_type": "stream",
     "text": [
      "<class 'pandas.core.frame.DataFrame'>\n",
      "RangeIndex: 397 entries, 0 to 396\n",
      "Data columns (total 6 columns):\n",
      " #   Column         Non-Null Count  Dtype \n",
      "---  ------         --------------  ----- \n",
      " 0   rank           397 non-null    object\n",
      " 1   discipline     397 non-null    object\n",
      " 2   yrs.since.phd  397 non-null    int64 \n",
      " 3   yrs.service    397 non-null    int64 \n",
      " 4   sex            397 non-null    object\n",
      " 5   salary         397 non-null    int64 \n",
      "dtypes: int64(3), object(3)\n",
      "memory usage: 18.7+ KB\n"
     ]
    }
   ],
   "source": [
    "df.info()"
   ]
  },
  {
   "cell_type": "code",
   "execution_count": 28,
   "id": "cc82c60f",
   "metadata": {},
   "outputs": [],
   "source": [
    "#"
   ]
  },
  {
   "cell_type": "code",
   "execution_count": 18,
   "id": "b6e6882f",
   "metadata": {},
   "outputs": [
    {
     "data": {
      "text/html": [
       "<div>\n",
       "<style scoped>\n",
       "    .dataframe tbody tr th:only-of-type {\n",
       "        vertical-align: middle;\n",
       "    }\n",
       "\n",
       "    .dataframe tbody tr th {\n",
       "        vertical-align: top;\n",
       "    }\n",
       "\n",
       "    .dataframe thead th {\n",
       "        text-align: right;\n",
       "    }\n",
       "</style>\n",
       "<table border=\"1\" class=\"dataframe\">\n",
       "  <thead>\n",
       "    <tr style=\"text-align: right;\">\n",
       "      <th></th>\n",
       "      <th>yrs.since.phd</th>\n",
       "      <th>yrs.service</th>\n",
       "      <th>salary</th>\n",
       "    </tr>\n",
       "  </thead>\n",
       "  <tbody>\n",
       "    <tr>\n",
       "      <th>count</th>\n",
       "      <td>397.000000</td>\n",
       "      <td>397.000000</td>\n",
       "      <td>397.000000</td>\n",
       "    </tr>\n",
       "    <tr>\n",
       "      <th>mean</th>\n",
       "      <td>22.314861</td>\n",
       "      <td>17.614610</td>\n",
       "      <td>113706.458438</td>\n",
       "    </tr>\n",
       "    <tr>\n",
       "      <th>std</th>\n",
       "      <td>12.887003</td>\n",
       "      <td>13.006024</td>\n",
       "      <td>30289.038695</td>\n",
       "    </tr>\n",
       "    <tr>\n",
       "      <th>min</th>\n",
       "      <td>1.000000</td>\n",
       "      <td>0.000000</td>\n",
       "      <td>57800.000000</td>\n",
       "    </tr>\n",
       "    <tr>\n",
       "      <th>25%</th>\n",
       "      <td>12.000000</td>\n",
       "      <td>7.000000</td>\n",
       "      <td>91000.000000</td>\n",
       "    </tr>\n",
       "    <tr>\n",
       "      <th>50%</th>\n",
       "      <td>21.000000</td>\n",
       "      <td>16.000000</td>\n",
       "      <td>107300.000000</td>\n",
       "    </tr>\n",
       "    <tr>\n",
       "      <th>75%</th>\n",
       "      <td>32.000000</td>\n",
       "      <td>27.000000</td>\n",
       "      <td>134185.000000</td>\n",
       "    </tr>\n",
       "    <tr>\n",
       "      <th>max</th>\n",
       "      <td>56.000000</td>\n",
       "      <td>60.000000</td>\n",
       "      <td>231545.000000</td>\n",
       "    </tr>\n",
       "  </tbody>\n",
       "</table>\n",
       "</div>"
      ],
      "text/plain": [
       "       yrs.since.phd  yrs.service         salary\n",
       "count     397.000000   397.000000     397.000000\n",
       "mean       22.314861    17.614610  113706.458438\n",
       "std        12.887003    13.006024   30289.038695\n",
       "min         1.000000     0.000000   57800.000000\n",
       "25%        12.000000     7.000000   91000.000000\n",
       "50%        21.000000    16.000000  107300.000000\n",
       "75%        32.000000    27.000000  134185.000000\n",
       "max        56.000000    60.000000  231545.000000"
      ]
     },
     "execution_count": 18,
     "metadata": {},
     "output_type": "execute_result"
    }
   ],
   "source": [
    "df.describe()"
   ]
  },
  {
   "cell_type": "code",
   "execution_count": 31,
   "id": "d194733d",
   "metadata": {},
   "outputs": [],
   "source": [
    "# Here we can see that output has came only for the continous database and not for String values present in the database. we will use encoding technique to convert the string values present in the dataframe to numeric values before applying any technique or building model."
   ]
  },
  {
   "cell_type": "code",
   "execution_count": null,
   "id": "03bf8b52",
   "metadata": {},
   "outputs": [],
   "source": [
    "# Making Dataframe for Nominal Data"
   ]
  },
  {
   "cell_type": "code",
   "execution_count": 19,
   "id": "6f2360c4",
   "metadata": {},
   "outputs": [],
   "source": [
    "df_visualization_nominal=df[['rank','discipline','sex']].copy()"
   ]
  },
  {
   "cell_type": "code",
   "execution_count": 20,
   "id": "afa610fb",
   "metadata": {},
   "outputs": [
    {
     "data": {
      "text/plain": [
       "Index(['rank', 'discipline', 'sex'], dtype='object')"
      ]
     },
     "execution_count": 20,
     "metadata": {},
     "output_type": "execute_result"
    }
   ],
   "source": [
    "df_visualization_nominal.columns"
   ]
  },
  {
   "cell_type": "code",
   "execution_count": 36,
   "id": "6a6ec53e",
   "metadata": {},
   "outputs": [],
   "source": [
    "# Visualization of the Data"
   ]
  },
  {
   "cell_type": "code",
   "execution_count": 21,
   "id": "94840e19",
   "metadata": {},
   "outputs": [],
   "source": [
    "import seaborn as sns"
   ]
  },
  {
   "cell_type": "code",
   "execution_count": 38,
   "id": "2a6e51a6",
   "metadata": {},
   "outputs": [],
   "source": [
    "# for the nominal categorical data we will use countplot as it will give the frequency of the classes of the column"
   ]
  },
  {
   "cell_type": "code",
   "execution_count": 22,
   "id": "0295b57d",
   "metadata": {},
   "outputs": [
    {
     "name": "stdout",
     "output_type": "stream",
     "text": [
      "Prof         266\n",
      "AsstProf      67\n",
      "AssocProf     64\n",
      "Name: rank, dtype: int64\n"
     ]
    },
    {
     "data": {
      "image/png": "[encoded data removed]",
      "text/plain": [
       "<Figure size 432x288 with 1 Axes>"
      ]
     },
     "metadata": {
      "needs_background": "light"
     },
     "output_type": "display_data"
    }
   ],
   "source": [
    "ax = sns.countplot(x='rank', data=df_visualization_nominal)\n",
    "print(df_visualization_nominal['rank'].value_counts())"
   ]
  },
  {
   "cell_type": "code",
   "execution_count": 40,
   "id": "28651e70",
   "metadata": {},
   "outputs": [],
   "source": [
    "# From the above observation the total number of employee in rank of Prof is 266, Asst Prof is 67 and Assoc Prof is 64."
   ]
  },
  {
   "cell_type": "code",
   "execution_count": 23,
   "id": "148b61e6",
   "metadata": {},
   "outputs": [
    {
     "name": "stdout",
     "output_type": "stream",
     "text": [
      "B    216\n",
      "A    181\n",
      "Name: discipline, dtype: int64\n"
     ]
    },
    {
     "data": {
      "image/png": "[encoded data removed]",
      "text/plain": [
       "<Figure size 432x288 with 1 Axes>"
      ]
     },
     "metadata": {
      "needs_background": "light"
     },
     "output_type": "display_data"
    }
   ],
   "source": [
    "ax = sns.countplot(x='discipline', data=df_visualization_nominal)\n",
    "print(df_visualization_nominal['discipline'].value_counts())"
   ]
  },
  {
   "cell_type": "code",
   "execution_count": 49,
   "id": "aa41e805",
   "metadata": {},
   "outputs": [],
   "source": [
    "# From the above observation the total number of employee in decipline A is 181 and Total Number of employee in decipline B is 216"
   ]
  },
  {
   "cell_type": "code",
   "execution_count": 24,
   "id": "7bd60789",
   "metadata": {},
   "outputs": [
    {
     "name": "stdout",
     "output_type": "stream",
     "text": [
      "Male      358\n",
      "Female     39\n",
      "Name: sex, dtype: int64\n"
     ]
    },
    {
     "data": {
      "image/png": "[encoded data removed]",
      "text/plain": [
       "<Figure size 432x288 with 1 Axes>"
      ]
     },
     "metadata": {
      "needs_background": "light"
     },
     "output_type": "display_data"
    }
   ],
   "source": [
    "ax = sns.countplot(x='sex', data=df_visualization_nominal)\n",
    "print(df_visualization_nominal['sex'].value_counts())"
   ]
  },
  {
   "cell_type": "code",
   "execution_count": 28,
   "id": "e3260b7e",
   "metadata": {},
   "outputs": [],
   "source": [
    "# From the above observation the total number of Male is 358 and Total Number of Female is 39 in dataset"
   ]
  },
  {
   "cell_type": "code",
   "execution_count": null,
   "id": "4e017bda",
   "metadata": {},
   "outputs": [],
   "source": [
    "# For continuous data categories we will use distplot as it will give the flow of the line of the classes of the columns"
   ]
  },
  {
   "cell_type": "code",
   "execution_count": 53,
   "id": "24f139a9",
   "metadata": {},
   "outputs": [],
   "source": [
    "# Making Dataframe for continous data"
   ]
  },
  {
   "cell_type": "code",
   "execution_count": 25,
   "id": "d4b558ae",
   "metadata": {},
   "outputs": [],
   "source": [
    "df_visualization_continuous=df[['yrs.since.phd','yrs.service','salary']].copy()"
   ]
  },
  {
   "cell_type": "code",
   "execution_count": 26,
   "id": "4657d566",
   "metadata": {},
   "outputs": [
    {
     "data": {
      "text/plain": [
       "Index(['yrs.since.phd', 'yrs.service', 'salary'], dtype='object')"
      ]
     },
     "execution_count": 26,
     "metadata": {},
     "output_type": "execute_result"
    }
   ],
   "source": [
    "df_visualization_continuous.columns"
   ]
  },
  {
   "cell_type": "code",
   "execution_count": 27,
   "id": "06aa690e",
   "metadata": {},
   "outputs": [
    {
     "data": {
      "text/plain": [
       "<seaborn.axisgrid.FacetGrid at 0x1e93b695a90>"
      ]
     },
     "execution_count": 27,
     "metadata": {},
     "output_type": "execute_result"
    },
    {
     "data": {
      "image/png": "[encoded data removed]",
      "text/plain": [
       "<Figure size 360x360 with 1 Axes>"
      ]
     },
     "metadata": {
      "needs_background": "light"
     },
     "output_type": "display_data"
    }
   ],
   "source": [
    "sns.displot(df_visualization_continuous['yrs.since.phd'], kde=True)"
   ]
  },
  {
   "cell_type": "code",
   "execution_count": 43,
   "id": "eb4a3634",
   "metadata": {},
   "outputs": [],
   "source": [
    "# Distribution of data shows that most of the values are present at the zero and its spreaded towards 50"
   ]
  },
  {
   "cell_type": "code",
   "execution_count": 28,
   "id": "48348d18",
   "metadata": {},
   "outputs": [
    {
     "data": {
      "text/plain": [
       "<seaborn.axisgrid.FacetGrid at 0x1e93b6ec160>"
      ]
     },
     "execution_count": 28,
     "metadata": {},
     "output_type": "execute_result"
    },
    {
     "data": {
      "image/png": "[encoded data removed]",
      "text/plain": [
       "<Figure size 360x360 with 1 Axes>"
      ]
     },
     "metadata": {
      "needs_background": "light"
     },
     "output_type": "display_data"
    }
   ],
   "source": [
    "sns.displot(df_visualization_continuous['yrs.service'], kde=True)"
   ]
  },
  {
   "cell_type": "code",
   "execution_count": 49,
   "id": "2573a640",
   "metadata": {},
   "outputs": [],
   "source": [
    "# Distribution of data shows that most of the values are present at the zero and its spreaded towards 60"
   ]
  },
  {
   "cell_type": "code",
   "execution_count": 29,
   "id": "acabaa87",
   "metadata": {},
   "outputs": [
    {
     "data": {
      "text/plain": [
       "<seaborn.axisgrid.FacetGrid at 0x1e93b695610>"
      ]
     },
     "execution_count": 29,
     "metadata": {},
     "output_type": "execute_result"
    },
    {
     "data": {
      "image/png": "[encoded data removed]",
      "text/plain": [
       "<Figure size 360x360 with 1 Axes>"
      ]
     },
     "metadata": {
      "needs_background": "light"
     },
     "output_type": "display_data"
    }
   ],
   "source": [
    "sns.displot(df_visualization_continuous['salary'], kde=True)"
   ]
  },
  {
   "cell_type": "code",
   "execution_count": 69,
   "id": "e6f10186",
   "metadata": {},
   "outputs": [],
   "source": [
    "# Distribution of data shows that most of the values are present at 50000 and its spreaded towards 225000"
   ]
  },
  {
   "cell_type": "code",
   "execution_count": 70,
   "id": "219fdbd5",
   "metadata": {},
   "outputs": [],
   "source": [
    "# Since the dataset has lots of string values we will use the encoding techniques to convert the string data to numeric one.\n",
    "# Since string values are not understood by machine, it is very important to perform encoding to convert string data into numeric values before applying any technique and building any any Model"
   ]
  },
  {
   "cell_type": "code",
   "execution_count": 71,
   "id": "6d56d9c9",
   "metadata": {},
   "outputs": [],
   "source": [
    "# Encodinhg of Dataframe: importing OrdinalEncoder for encoding dataframe"
   ]
  },
  {
   "cell_type": "code",
   "execution_count": 30,
   "id": "4fdbb910",
   "metadata": {},
   "outputs": [],
   "source": [
    "from sklearn.preprocessing import OrdinalEncoder\n",
    "enc=OrdinalEncoder()"
   ]
  },
  {
   "cell_type": "code",
   "execution_count": 31,
   "id": "7e494d43",
   "metadata": {},
   "outputs": [],
   "source": [
    "for i in df.columns:\n",
    "    if df[i].dtypes==\"object\":\n",
    "        df[i]=enc.fit_transform(df[i].values.reshape(-1,1))"
   ]
  },
  {
   "cell_type": "code",
   "execution_count": null,
   "id": "3ada5e6d",
   "metadata": {},
   "outputs": [],
   "source": [
    "# here we are using for loop and in df.columns we can apply the OrdinalEncoder. for i in df.columns will print the name of columns and if at any point if the data type of the column is object, it will convert the string value to numeric value."
   ]
  },
  {
   "cell_type": "code",
   "execution_count": 32,
   "id": "3c56df48",
   "metadata": {},
   "outputs": [
    {
     "data": {
      "text/html": [
       "<div>\n",
       "<style scoped>\n",
       "    .dataframe tbody tr th:only-of-type {\n",
       "        vertical-align: middle;\n",
       "    }\n",
       "\n",
       "    .dataframe tbody tr th {\n",
       "        vertical-align: top;\n",
       "    }\n",
       "\n",
       "    .dataframe thead th {\n",
       "        text-align: right;\n",
       "    }\n",
       "</style>\n",
       "<table border=\"1\" class=\"dataframe\">\n",
       "  <thead>\n",
       "    <tr style=\"text-align: right;\">\n",
       "      <th></th>\n",
       "      <th>rank</th>\n",
       "      <th>discipline</th>\n",
       "      <th>yrs.since.phd</th>\n",
       "      <th>yrs.service</th>\n",
       "      <th>sex</th>\n",
       "      <th>salary</th>\n",
       "    </tr>\n",
       "  </thead>\n",
       "  <tbody>\n",
       "    <tr>\n",
       "      <th>0</th>\n",
       "      <td>2.0</td>\n",
       "      <td>1.0</td>\n",
       "      <td>19</td>\n",
       "      <td>18</td>\n",
       "      <td>1.0</td>\n",
       "      <td>139750</td>\n",
       "    </tr>\n",
       "    <tr>\n",
       "      <th>1</th>\n",
       "      <td>2.0</td>\n",
       "      <td>1.0</td>\n",
       "      <td>20</td>\n",
       "      <td>16</td>\n",
       "      <td>1.0</td>\n",
       "      <td>173200</td>\n",
       "    </tr>\n",
       "    <tr>\n",
       "      <th>2</th>\n",
       "      <td>1.0</td>\n",
       "      <td>1.0</td>\n",
       "      <td>4</td>\n",
       "      <td>3</td>\n",
       "      <td>1.0</td>\n",
       "      <td>79750</td>\n",
       "    </tr>\n",
       "    <tr>\n",
       "      <th>3</th>\n",
       "      <td>2.0</td>\n",
       "      <td>1.0</td>\n",
       "      <td>45</td>\n",
       "      <td>39</td>\n",
       "      <td>1.0</td>\n",
       "      <td>115000</td>\n",
       "    </tr>\n",
       "    <tr>\n",
       "      <th>4</th>\n",
       "      <td>2.0</td>\n",
       "      <td>1.0</td>\n",
       "      <td>40</td>\n",
       "      <td>41</td>\n",
       "      <td>1.0</td>\n",
       "      <td>141500</td>\n",
       "    </tr>\n",
       "    <tr>\n",
       "      <th>...</th>\n",
       "      <td>...</td>\n",
       "      <td>...</td>\n",
       "      <td>...</td>\n",
       "      <td>...</td>\n",
       "      <td>...</td>\n",
       "      <td>...</td>\n",
       "    </tr>\n",
       "    <tr>\n",
       "      <th>392</th>\n",
       "      <td>2.0</td>\n",
       "      <td>0.0</td>\n",
       "      <td>33</td>\n",
       "      <td>30</td>\n",
       "      <td>1.0</td>\n",
       "      <td>103106</td>\n",
       "    </tr>\n",
       "    <tr>\n",
       "      <th>393</th>\n",
       "      <td>2.0</td>\n",
       "      <td>0.0</td>\n",
       "      <td>31</td>\n",
       "      <td>19</td>\n",
       "      <td>1.0</td>\n",
       "      <td>150564</td>\n",
       "    </tr>\n",
       "    <tr>\n",
       "      <th>394</th>\n",
       "      <td>2.0</td>\n",
       "      <td>0.0</td>\n",
       "      <td>42</td>\n",
       "      <td>25</td>\n",
       "      <td>1.0</td>\n",
       "      <td>101738</td>\n",
       "    </tr>\n",
       "    <tr>\n",
       "      <th>395</th>\n",
       "      <td>2.0</td>\n",
       "      <td>0.0</td>\n",
       "      <td>25</td>\n",
       "      <td>15</td>\n",
       "      <td>1.0</td>\n",
       "      <td>95329</td>\n",
       "    </tr>\n",
       "    <tr>\n",
       "      <th>396</th>\n",
       "      <td>1.0</td>\n",
       "      <td>0.0</td>\n",
       "      <td>8</td>\n",
       "      <td>4</td>\n",
       "      <td>1.0</td>\n",
       "      <td>81035</td>\n",
       "    </tr>\n",
       "  </tbody>\n",
       "</table>\n",
       "<p>397 rows × 6 columns</p>\n",
       "</div>"
      ],
      "text/plain": [
       "     rank  discipline  yrs.since.phd  yrs.service  sex  salary\n",
       "0     2.0         1.0             19           18  1.0  139750\n",
       "1     2.0         1.0             20           16  1.0  173200\n",
       "2     1.0         1.0              4            3  1.0   79750\n",
       "3     2.0         1.0             45           39  1.0  115000\n",
       "4     2.0         1.0             40           41  1.0  141500\n",
       "..    ...         ...            ...          ...  ...     ...\n",
       "392   2.0         0.0             33           30  1.0  103106\n",
       "393   2.0         0.0             31           19  1.0  150564\n",
       "394   2.0         0.0             42           25  1.0  101738\n",
       "395   2.0         0.0             25           15  1.0   95329\n",
       "396   1.0         0.0              8            4  1.0   81035\n",
       "\n",
       "[397 rows x 6 columns]"
      ]
     },
     "execution_count": 32,
     "metadata": {},
     "output_type": "execute_result"
    }
   ],
   "source": [
    "df"
   ]
  },
  {
   "cell_type": "code",
   "execution_count": 76,
   "id": "271c499d",
   "metadata": {},
   "outputs": [],
   "source": [
    "# Now we will Describe the dataset"
   ]
  },
  {
   "cell_type": "code",
   "execution_count": 33,
   "id": "d0eaf922",
   "metadata": {},
   "outputs": [
    {
     "data": {
      "text/html": [
       "<div>\n",
       "<style scoped>\n",
       "    .dataframe tbody tr th:only-of-type {\n",
       "        vertical-align: middle;\n",
       "    }\n",
       "\n",
       "    .dataframe tbody tr th {\n",
       "        vertical-align: top;\n",
       "    }\n",
       "\n",
       "    .dataframe thead th {\n",
       "        text-align: right;\n",
       "    }\n",
       "</style>\n",
       "<table border=\"1\" class=\"dataframe\">\n",
       "  <thead>\n",
       "    <tr style=\"text-align: right;\">\n",
       "      <th></th>\n",
       "      <th>rank</th>\n",
       "      <th>discipline</th>\n",
       "      <th>yrs.since.phd</th>\n",
       "      <th>yrs.service</th>\n",
       "      <th>sex</th>\n",
       "      <th>salary</th>\n",
       "    </tr>\n",
       "  </thead>\n",
       "  <tbody>\n",
       "    <tr>\n",
       "      <th>count</th>\n",
       "      <td>397.000000</td>\n",
       "      <td>397.000000</td>\n",
       "      <td>397.000000</td>\n",
       "      <td>397.000000</td>\n",
       "      <td>397.000000</td>\n",
       "      <td>397.000000</td>\n",
       "    </tr>\n",
       "    <tr>\n",
       "      <th>mean</th>\n",
       "      <td>1.508816</td>\n",
       "      <td>0.544081</td>\n",
       "      <td>22.314861</td>\n",
       "      <td>17.614610</td>\n",
       "      <td>0.901763</td>\n",
       "      <td>113706.458438</td>\n",
       "    </tr>\n",
       "    <tr>\n",
       "      <th>std</th>\n",
       "      <td>0.757486</td>\n",
       "      <td>0.498682</td>\n",
       "      <td>12.887003</td>\n",
       "      <td>13.006024</td>\n",
       "      <td>0.298010</td>\n",
       "      <td>30289.038695</td>\n",
       "    </tr>\n",
       "    <tr>\n",
       "      <th>min</th>\n",
       "      <td>0.000000</td>\n",
       "      <td>0.000000</td>\n",
       "      <td>1.000000</td>\n",
       "      <td>0.000000</td>\n",
       "      <td>0.000000</td>\n",
       "      <td>57800.000000</td>\n",
       "    </tr>\n",
       "    <tr>\n",
       "      <th>25%</th>\n",
       "      <td>1.000000</td>\n",
       "      <td>0.000000</td>\n",
       "      <td>12.000000</td>\n",
       "      <td>7.000000</td>\n",
       "      <td>1.000000</td>\n",
       "      <td>91000.000000</td>\n",
       "    </tr>\n",
       "    <tr>\n",
       "      <th>50%</th>\n",
       "      <td>2.000000</td>\n",
       "      <td>1.000000</td>\n",
       "      <td>21.000000</td>\n",
       "      <td>16.000000</td>\n",
       "      <td>1.000000</td>\n",
       "      <td>107300.000000</td>\n",
       "    </tr>\n",
       "    <tr>\n",
       "      <th>75%</th>\n",
       "      <td>2.000000</td>\n",
       "      <td>1.000000</td>\n",
       "      <td>32.000000</td>\n",
       "      <td>27.000000</td>\n",
       "      <td>1.000000</td>\n",
       "      <td>134185.000000</td>\n",
       "    </tr>\n",
       "    <tr>\n",
       "      <th>max</th>\n",
       "      <td>2.000000</td>\n",
       "      <td>1.000000</td>\n",
       "      <td>56.000000</td>\n",
       "      <td>60.000000</td>\n",
       "      <td>1.000000</td>\n",
       "      <td>231545.000000</td>\n",
       "    </tr>\n",
       "  </tbody>\n",
       "</table>\n",
       "</div>"
      ],
      "text/plain": [
       "             rank  discipline  yrs.since.phd  yrs.service         sex  \\\n",
       "count  397.000000  397.000000     397.000000   397.000000  397.000000   \n",
       "mean     1.508816    0.544081      22.314861    17.614610    0.901763   \n",
       "std      0.757486    0.498682      12.887003    13.006024    0.298010   \n",
       "min      0.000000    0.000000       1.000000     0.000000    0.000000   \n",
       "25%      1.000000    0.000000      12.000000     7.000000    1.000000   \n",
       "50%      2.000000    1.000000      21.000000    16.000000    1.000000   \n",
       "75%      2.000000    1.000000      32.000000    27.000000    1.000000   \n",
       "max      2.000000    1.000000      56.000000    60.000000    1.000000   \n",
       "\n",
       "              salary  \n",
       "count     397.000000  \n",
       "mean   113706.458438  \n",
       "std     30289.038695  \n",
       "min     57800.000000  \n",
       "25%     91000.000000  \n",
       "50%    107300.000000  \n",
       "75%    134185.000000  \n",
       "max    231545.000000  "
      ]
     },
     "execution_count": 33,
     "metadata": {},
     "output_type": "execute_result"
    }
   ],
   "source": [
    "df.describe()"
   ]
  },
  {
   "cell_type": "code",
   "execution_count": 78,
   "id": "ecc3fd5c",
   "metadata": {},
   "outputs": [],
   "source": [
    "# from above observation, we can see the count,mean,standard deviation,minimum value, first quartile value(25%),second quartile value(50%),third quartile value(75%) and maximum value for the different variables."
   ]
  },
  {
   "cell_type": "code",
   "execution_count": 79,
   "id": "d6209ae6",
   "metadata": {},
   "outputs": [],
   "source": [
    "# Now we will use heatmap for describe function"
   ]
  },
  {
   "cell_type": "code",
   "execution_count": 34,
   "id": "87365bd0",
   "metadata": {},
   "outputs": [
    {
     "data": {
      "text/plain": [
       "<AxesSubplot:>"
      ]
     },
     "execution_count": 34,
     "metadata": {},
     "output_type": "execute_result"
    },
    {
     "data": {
      "image/png": "[encoded data removed]",
      "text/plain": [
       "<Figure size 1584x504 with 2 Axes>"
      ]
     },
     "metadata": {
      "needs_background": "light"
     },
     "output_type": "display_data"
    }
   ],
   "source": [
    "import matplotlib.pyplot as plt\n",
    "plt.figure(figsize=(22,7))\n",
    "sns.heatmap(df.describe(),annot=True,linewidths=0.1,linecolor=\"black\", fmt=\"0.2f\")"
   ]
  },
  {
   "cell_type": "code",
   "execution_count": 84,
   "id": "20fbe1a8",
   "metadata": {},
   "outputs": [],
   "source": [
    "# We have use heatmap on describe function, here figsize is the dimensions of the map.\n",
    "# annot=True is used to display the values in map, if we use annot=False then only color will be printed without values.\n",
    "# linewidths are used for changing the width of the line\n",
    "# fmt=\"0.2f\" means we are allowing only two values after the decimal points.\n",
    "# linecolor=\"black\" is used to choose the color of lines."
   ]
  },
  {
   "cell_type": "code",
   "execution_count": 85,
   "id": "065dc195",
   "metadata": {},
   "outputs": [],
   "source": [
    "# Now we will use Corelation of the columns with the target columns"
   ]
  },
  {
   "cell_type": "code",
   "execution_count": 35,
   "id": "02cf42c6",
   "metadata": {},
   "outputs": [
    {
     "data": {
      "text/plain": [
       "sex              0.138610\n",
       "discipline       0.156084\n",
       "yrs.service      0.334745\n",
       "yrs.since.phd    0.419231\n",
       "rank             0.522207\n",
       "salary           1.000000\n",
       "Name: salary, dtype: float64"
      ]
     },
     "execution_count": 35,
     "metadata": {},
     "output_type": "execute_result"
    }
   ],
   "source": [
    "df.corr()['salary'].sort_values()"
   ]
  },
  {
   "cell_type": "code",
   "execution_count": 88,
   "id": "65d4a1c7",
   "metadata": {},
   "outputs": [],
   "source": [
    "# here the target variable is salary which is highly positive corelated with the features as per analysis.Its highly corelated with Target variable and independent feature."
   ]
  },
  {
   "cell_type": "code",
   "execution_count": 89,
   "id": "fa64a457",
   "metadata": {},
   "outputs": [],
   "source": [
    "# Now we will use heatmap for coorelation"
   ]
  },
  {
   "cell_type": "code",
   "execution_count": 36,
   "id": "0e459876",
   "metadata": {},
   "outputs": [
    {
     "data": {
      "text/plain": [
       "<AxesSubplot:>"
      ]
     },
     "execution_count": 36,
     "metadata": {},
     "output_type": "execute_result"
    },
    {
     "data": {
      "image/png": "[encoded data removed]",
      "text/plain": [
       "<Figure size 1584x504 with 2 Axes>"
      ]
     },
     "metadata": {
      "needs_background": "light"
     },
     "output_type": "display_data"
    }
   ],
   "source": [
    "plt.figure(figsize=(22,7))\n",
    "sns.heatmap(df.corr(),annot=True,linewidths=0.1,linecolor=\"black\", fmt=\"0.2f\")"
   ]
  },
  {
   "cell_type": "code",
   "execution_count": 91,
   "id": "56324f84",
   "metadata": {},
   "outputs": [],
   "source": [
    "# We have used the heatmap on corelation method. Here we can check the corelation values amoung the columns where the X Axis and Y Axis intersecting each other is corelation value. \n",
    "# There are two types of corelation we check here, i.e corelation between independent variable and target variable and second is corelation between independent vatiable vs second independent variable.\n",
    "# if any feature is highly positive or negative corelated with target variable, it means that variable is very important and effecting in some way in predection.\n",
    "# If one independent variable is highly corelated with another dependent variable it means its very important feature and can not be dropped."
   ]
  },
  {
   "cell_type": "code",
   "execution_count": 92,
   "id": "d0394307",
   "metadata": {},
   "outputs": [],
   "source": [
    "# here we are checking the columns which are positively and negatively corelated with the target columns."
   ]
  },
  {
   "cell_type": "code",
   "execution_count": 37,
   "id": "2319752d",
   "metadata": {},
   "outputs": [
    {
     "data": {
      "image/png": "[encoded data removed]",
      "text/plain": [
       "<Figure size 1584x504 with 1 Axes>"
      ]
     },
     "metadata": {
      "needs_background": "light"
     },
     "output_type": "display_data"
    }
   ],
   "source": [
    "plt.figure(figsize=(22,7))\n",
    "df.corr()['salary'].sort_values(ascending=False).drop(['salary']).plot(kind='bar',color='c')\n",
    "plt.xlabel('Feature',fontsize=14)\n",
    "plt.ylabel('column with target names',fontsize=14)\n",
    "plt.title('correlation',fontsize=18)\n",
    "plt.show()"
   ]
  },
  {
   "cell_type": "code",
   "execution_count": 94,
   "id": "42b9bb2e",
   "metadata": {},
   "outputs": [],
   "source": [
    "# From above observation we can see the positive correlation with features and target variables."
   ]
  },
  {
   "cell_type": "code",
   "execution_count": 38,
   "id": "db4a8096",
   "metadata": {},
   "outputs": [
    {
     "data": {
      "text/plain": [
       "rank            -1.151164\n",
       "discipline      -0.177684\n",
       "yrs.since.phd    0.300880\n",
       "yrs.service      0.650569\n",
       "sex             -2.709958\n",
       "salary           0.714568\n",
       "dtype: float64"
      ]
     },
     "execution_count": 38,
     "metadata": {},
     "output_type": "execute_result"
    }
   ],
   "source": [
    "df.skew()"
   ]
  },
  {
   "cell_type": "code",
   "execution_count": 100,
   "id": "18da657f",
   "metadata": {},
   "outputs": [],
   "source": [
    "# Keeping +/-0.5 as the range of skewnwss, here are the columns which does not lie within the range\n",
    "# rank (Categorical data)\n",
    "# yrs.service (continous data)\n",
    "#sex (categorical data)\n",
    "# salary (target variable)"
   ]
  },
  {
   "cell_type": "code",
   "execution_count": 101,
   "id": "5563fad2",
   "metadata": {},
   "outputs": [],
   "source": [
    "# Hence we will not remove skewness from categorical data"
   ]
  },
  {
   "cell_type": "code",
   "execution_count": 102,
   "id": "440a8b04",
   "metadata": {},
   "outputs": [],
   "source": [
    "# Outliers Check and checking datatypes"
   ]
  },
  {
   "cell_type": "code",
   "execution_count": 39,
   "id": "b909bdcf",
   "metadata": {},
   "outputs": [
    {
     "data": {
      "text/plain": [
       "rank             float64\n",
       "discipline       float64\n",
       "yrs.since.phd      int64\n",
       "yrs.service        int64\n",
       "sex              float64\n",
       "salary             int64\n",
       "dtype: object"
      ]
     },
     "execution_count": 39,
     "metadata": {},
     "output_type": "execute_result"
    }
   ],
   "source": [
    "df.dtypes"
   ]
  },
  {
   "cell_type": "code",
   "execution_count": null,
   "id": "f07cc5e0",
   "metadata": {},
   "outputs": [],
   "source": [
    "# Checking the outliers on the intiger and float types of columns using boxplot"
   ]
  },
  {
   "cell_type": "code",
   "execution_count": 40,
   "id": "d4631b57",
   "metadata": {},
   "outputs": [
    {
     "data": {
      "text/plain": [
       "<AxesSubplot:>"
      ]
     },
     "execution_count": 40,
     "metadata": {},
     "output_type": "execute_result"
    },
    {
     "data": {
      "image/png": "[encoded data removed]",
      "text/plain": [
       "<Figure size 432x288 with 1 Axes>"
      ]
     },
     "metadata": {
      "needs_background": "light"
     },
     "output_type": "display_data"
    }
   ],
   "source": [
    "df['rank'].plot.box()"
   ]
  },
  {
   "cell_type": "code",
   "execution_count": 114,
   "id": "c5c54e18",
   "metadata": {},
   "outputs": [],
   "source": [
    "# from the above observation there is no outlier present for rank column"
   ]
  },
  {
   "cell_type": "code",
   "execution_count": 41,
   "id": "e8c9af64",
   "metadata": {},
   "outputs": [
    {
     "data": {
      "text/plain": [
       "<AxesSubplot:>"
      ]
     },
     "execution_count": 41,
     "metadata": {},
     "output_type": "execute_result"
    },
    {
     "data": {
      "image/png": "[encoded data removed]",
      "text/plain": [
       "<Figure size 432x288 with 1 Axes>"
      ]
     },
     "metadata": {
      "needs_background": "light"
     },
     "output_type": "display_data"
    }
   ],
   "source": [
    "df['discipline'].plot.box()"
   ]
  },
  {
   "cell_type": "code",
   "execution_count": 116,
   "id": "7a0c0725",
   "metadata": {},
   "outputs": [],
   "source": [
    "# from the above observation there is no outlier present for discipline column"
   ]
  },
  {
   "cell_type": "code",
   "execution_count": 117,
   "id": "5de2a852",
   "metadata": {},
   "outputs": [
    {
     "data": {
      "text/plain": [
       "<AxesSubplot:>"
      ]
     },
     "execution_count": 117,
     "metadata": {},
     "output_type": "execute_result"
    },
    {
     "data": {
      "image/png": "[encoded data removed]",
      "text/plain": [
       "<Figure size 432x288 with 1 Axes>"
      ]
     },
     "metadata": {
      "needs_background": "light"
     },
     "output_type": "display_data"
    }
   ],
   "source": [
    "df['yrs.since.phd'].plot.box()"
   ]
  },
  {
   "cell_type": "code",
   "execution_count": 118,
   "id": "b3620cf3",
   "metadata": {},
   "outputs": [],
   "source": [
    "# from the above observation there is no outlier present for yrs.since.phd column"
   ]
  },
  {
   "cell_type": "code",
   "execution_count": 42,
   "id": "b80cd5d3",
   "metadata": {},
   "outputs": [
    {
     "data": {
      "text/plain": [
       "<AxesSubplot:>"
      ]
     },
     "execution_count": 42,
     "metadata": {},
     "output_type": "execute_result"
    },
    {
     "data": {
      "image/png": "[encoded data removed]",
      "text/plain": [
       "<Figure size 432x288 with 1 Axes>"
      ]
     },
     "metadata": {
      "needs_background": "light"
     },
     "output_type": "display_data"
    }
   ],
   "source": [
    "df['yrs.service'].plot.box()"
   ]
  },
  {
   "cell_type": "code",
   "execution_count": 120,
   "id": "2664676f",
   "metadata": {},
   "outputs": [],
   "source": [
    "# from the above observation there is one outlier present in yrs.service column and since it is neither categorical nor target variable, we need to remove the outlier."
   ]
  },
  {
   "cell_type": "code",
   "execution_count": 43,
   "id": "a875f53b",
   "metadata": {},
   "outputs": [
    {
     "data": {
      "text/plain": [
       "<AxesSubplot:>"
      ]
     },
     "execution_count": 43,
     "metadata": {},
     "output_type": "execute_result"
    },
    {
     "data": {
      "image/png": "[encoded data removed]",
      "text/plain": [
       "<Figure size 432x288 with 1 Axes>"
      ]
     },
     "metadata": {
      "needs_background": "light"
     },
     "output_type": "display_data"
    }
   ],
   "source": [
    "df['sex'].plot.box()"
   ]
  },
  {
   "cell_type": "code",
   "execution_count": 122,
   "id": "6b1821bf",
   "metadata": {},
   "outputs": [],
   "source": [
    "# from the above observation there is one outlier present in sex column and since it is categorical data we will not remove this outlier "
   ]
  },
  {
   "cell_type": "code",
   "execution_count": 123,
   "id": "c2e5bb84",
   "metadata": {},
   "outputs": [
    {
     "data": {
      "text/plain": [
       "<AxesSubplot:>"
      ]
     },
     "execution_count": 123,
     "metadata": {},
     "output_type": "execute_result"
    },
    {
     "data": {
      "image/png": "[encoded data removed]",
      "text/plain": [
       "<Figure size 432x288 with 1 Axes>"
      ]
     },
     "metadata": {
      "needs_background": "light"
     },
     "output_type": "display_data"
    }
   ],
   "source": [
    "df['salary'].plot.box()"
   ]
  },
  {
   "cell_type": "code",
   "execution_count": 124,
   "id": "c471b45a",
   "metadata": {},
   "outputs": [],
   "source": [
    "# from the above observation there are two outlier present in salary column and since it is target variable data we will not remove this outlier as target variable can contain any data."
   ]
  },
  {
   "cell_type": "code",
   "execution_count": 45,
   "id": "e0ed0b36",
   "metadata": {},
   "outputs": [
    {
     "data": {
      "text/plain": [
       "array([18, 16,  3, 39, 41,  6, 23, 45, 20,  8,  2,  1,  0, 34, 36, 26, 31,\n",
       "       30, 19,  4,  9, 21, 27, 38, 15, 28, 25, 11,  5, 12, 17, 14, 37,  7,\n",
       "       10, 29, 32, 22, 49, 57, 24, 53, 33, 40, 35, 43, 44, 48, 46, 51, 13,\n",
       "       60], dtype=int64)"
      ]
     },
     "execution_count": 45,
     "metadata": {},
     "output_type": "execute_result"
    }
   ],
   "source": [
    "df['yrs.service'].unique()"
   ]
  },
  {
   "cell_type": "code",
   "execution_count": 46,
   "id": "d3364dc1",
   "metadata": {},
   "outputs": [
    {
     "data": {
      "text/plain": [
       "array([1., 0.])"
      ]
     },
     "execution_count": 46,
     "metadata": {},
     "output_type": "execute_result"
    }
   ],
   "source": [
    "df['sex'].unique()"
   ]
  },
  {
   "cell_type": "code",
   "execution_count": null,
   "id": "4f6455a1",
   "metadata": {},
   "outputs": [],
   "source": [
    "# since sex column is nominal type, we can not consider its data point as outlier"
   ]
  },
  {
   "cell_type": "code",
   "execution_count": 47,
   "id": "39dd05e8",
   "metadata": {},
   "outputs": [
    {
     "data": {
      "text/plain": [
       "array([139750, 173200,  79750, 115000, 141500,  97000, 175000, 147765,\n",
       "       119250, 129000, 119800,  79800,  77700,  78000, 104800, 117150,\n",
       "       101000, 103450, 124750, 137000,  89565, 102580,  93904, 113068,\n",
       "        74830, 106294, 134885,  82379,  77000, 118223, 132261,  79916,\n",
       "       117256,  80225, 155750,  86373, 125196, 100938, 146500,  93418,\n",
       "       101299, 231545,  94384, 114778,  98193, 151768, 140096,  70768,\n",
       "       126621, 108875,  74692, 106639, 103760,  83900, 117704,  90215,\n",
       "       100135,  75044,  90304,  75243, 109785, 103613,  68404, 100522,\n",
       "        99418, 111512,  91412, 126320, 146856, 100131,  92391, 113398,\n",
       "        73266, 150480, 193000,  86100,  84240, 150743, 135585, 144640,\n",
       "        88825, 122960, 132825, 152708,  88400, 172272, 107008,  97032,\n",
       "       105128, 105631, 166024, 123683,  84000,  95611, 129676, 102235,\n",
       "       106689, 133217, 126933, 153303, 127512,  83850, 113543,  82099,\n",
       "        82600,  81500, 131205, 112429,  82100,  72500, 104279, 105000,\n",
       "       120806, 148500, 117515,  73500, 115313, 124309,  97262,  62884,\n",
       "        96614,  78162, 155500, 113278,  73000,  83001,  76840,  77500,\n",
       "       168635, 136000, 108262, 105668,  73877, 152664, 100102, 106608,\n",
       "        89942, 112696, 119015,  92000, 156938, 144651,  95079, 128148,\n",
       "       111168, 103994, 118971, 113341,  88000,  95408, 137167,  89516,\n",
       "       176500,  98510,  88795, 105890, 167284, 130664, 101210, 181257,\n",
       "        91227, 151575,  93164, 134185, 111751,  95436, 100944, 147349,\n",
       "       142467, 141136, 100000, 150000, 134000, 103750, 107500, 106300,\n",
       "       153750, 180000, 133700, 122100,  86250,  90000, 113600,  92700,\n",
       "       189409, 114500, 119700, 160400, 152500, 165000,  96545, 162200,\n",
       "       120000,  91300, 163200,  91000, 111350, 128400, 126200, 118700,\n",
       "       145350, 146000, 105350, 109650, 119500, 170000, 145200, 107150,\n",
       "       129600,  87800, 122400,  63900,  70000,  88175, 133900,  73300,\n",
       "       148750, 117555,  69700,  81700, 114000,  63100,  77202,  96200,\n",
       "        69200, 122875, 102600, 108200,  84273,  90450,  91100, 101100,\n",
       "       128800, 204000, 109000, 102000, 132000, 116450,  83000, 140300,\n",
       "        74000,  73800,  92550,  88600, 107550, 121200, 126000,  99000,\n",
       "       134800, 143940, 104350,  89650, 103700, 143250, 194800,  78500,\n",
       "        93000, 107200, 107100, 100600, 136500, 103600,  57800, 155865,\n",
       "        88650,  81800, 115800,  85000, 150500, 174500, 168500, 183800,\n",
       "       107300,  97150, 126300, 148800,  72300,  70700, 127100, 170500,\n",
       "       105260, 144050,  74500, 122500, 166800,  92050, 108100,  94350,\n",
       "       100351, 146800,  84716,  71065,  67559, 134550, 135027, 104428,\n",
       "        95642, 126431, 161101, 162221,  84500, 124714, 151650,  99247,\n",
       "       134778, 192253, 116518, 105450, 145098, 104542, 151445,  98053,\n",
       "       145000, 128464, 137317, 106231, 124312, 114596, 162150, 150376,\n",
       "       107986, 142023, 128250,  80139, 144309, 186960,  93519, 142500,\n",
       "       138000,  83600, 145028,  88709, 107309, 109954,  78785, 121946,\n",
       "       109646, 138771,  81285, 205500, 101036, 115435, 108413, 131950,\n",
       "       134690,  78182, 110515, 109707, 136660, 103275, 103649,  74856,\n",
       "        77081, 150680, 104121,  75996, 172505,  86895, 125192, 114330,\n",
       "       139219, 109305, 119450, 186023, 166605, 151292, 103106, 150564,\n",
       "       101738,  95329,  81035], dtype=int64)"
      ]
     },
     "execution_count": 47,
     "metadata": {},
     "output_type": "execute_result"
    }
   ],
   "source": [
    "df['salary'].unique()"
   ]
  },
  {
   "cell_type": "code",
   "execution_count": 129,
   "id": "3668bed1",
   "metadata": {},
   "outputs": [],
   "source": [
    "#"
   ]
  },
  {
   "cell_type": "code",
   "execution_count": 130,
   "id": "37d9b63d",
   "metadata": {},
   "outputs": [],
   "source": [
    "# Considering Outliers Removal"
   ]
  },
  {
   "cell_type": "code",
   "execution_count": 48,
   "id": "b7080a1b",
   "metadata": {},
   "outputs": [
    {
     "data": {
      "text/plain": [
       "(397, 6)"
      ]
     },
     "execution_count": 48,
     "metadata": {},
     "output_type": "execute_result"
    }
   ],
   "source": [
    "df.shape"
   ]
  },
  {
   "cell_type": "code",
   "execution_count": 49,
   "id": "b8752cf8",
   "metadata": {},
   "outputs": [
    {
     "data": {
      "text/plain": [
       "(array([  9,  19,  24,  34,  35,  43,  47,  48,  52,  63,  68,  84,  90,\n",
       "        103, 114, 119, 123, 127, 131, 132, 133, 148, 153, 179, 186, 218,\n",
       "        230, 231, 233, 237, 245, 253, 254, 274, 316, 323, 330, 332, 334,\n",
       "        341, 358, 361, 364], dtype=int64),\n",
       " array([4, 4, 4, 4, 4, 5, 4, 4, 4, 4, 4, 4, 4, 4, 4, 4, 4, 4, 3, 4, 4, 4,\n",
       "        4, 4, 4, 4, 4, 4, 4, 4, 4, 4, 4, 4, 4, 4, 3, 4, 4, 4, 4, 4, 5],\n",
       "       dtype=int64))"
      ]
     },
     "execution_count": 49,
     "metadata": {},
     "output_type": "execute_result"
    }
   ],
   "source": [
    "from scipy.stats import zscore\n",
    "import numpy as np\n",
    "z=np.abs(zscore(df))\n",
    "threshold=3\n",
    "np.where(z>3)"
   ]
  },
  {
   "cell_type": "code",
   "execution_count": 133,
   "id": "710871ae",
   "metadata": {},
   "outputs": [],
   "source": [
    "#"
   ]
  },
  {
   "cell_type": "code",
   "execution_count": 50,
   "id": "ab195244",
   "metadata": {},
   "outputs": [
    {
     "data": {
      "text/html": [
       "<div>\n",
       "<style scoped>\n",
       "    .dataframe tbody tr th:only-of-type {\n",
       "        vertical-align: middle;\n",
       "    }\n",
       "\n",
       "    .dataframe tbody tr th {\n",
       "        vertical-align: top;\n",
       "    }\n",
       "\n",
       "    .dataframe thead th {\n",
       "        text-align: right;\n",
       "    }\n",
       "</style>\n",
       "<table border=\"1\" class=\"dataframe\">\n",
       "  <thead>\n",
       "    <tr style=\"text-align: right;\">\n",
       "      <th></th>\n",
       "      <th>rank</th>\n",
       "      <th>discipline</th>\n",
       "      <th>yrs.since.phd</th>\n",
       "      <th>yrs.service</th>\n",
       "      <th>sex</th>\n",
       "      <th>salary</th>\n",
       "    </tr>\n",
       "  </thead>\n",
       "  <tbody>\n",
       "    <tr>\n",
       "      <th>0</th>\n",
       "      <td>2.0</td>\n",
       "      <td>1.0</td>\n",
       "      <td>19</td>\n",
       "      <td>18</td>\n",
       "      <td>1.0</td>\n",
       "      <td>139750</td>\n",
       "    </tr>\n",
       "    <tr>\n",
       "      <th>1</th>\n",
       "      <td>2.0</td>\n",
       "      <td>1.0</td>\n",
       "      <td>20</td>\n",
       "      <td>16</td>\n",
       "      <td>1.0</td>\n",
       "      <td>173200</td>\n",
       "    </tr>\n",
       "    <tr>\n",
       "      <th>2</th>\n",
       "      <td>1.0</td>\n",
       "      <td>1.0</td>\n",
       "      <td>4</td>\n",
       "      <td>3</td>\n",
       "      <td>1.0</td>\n",
       "      <td>79750</td>\n",
       "    </tr>\n",
       "    <tr>\n",
       "      <th>3</th>\n",
       "      <td>2.0</td>\n",
       "      <td>1.0</td>\n",
       "      <td>45</td>\n",
       "      <td>39</td>\n",
       "      <td>1.0</td>\n",
       "      <td>115000</td>\n",
       "    </tr>\n",
       "    <tr>\n",
       "      <th>4</th>\n",
       "      <td>2.0</td>\n",
       "      <td>1.0</td>\n",
       "      <td>40</td>\n",
       "      <td>41</td>\n",
       "      <td>1.0</td>\n",
       "      <td>141500</td>\n",
       "    </tr>\n",
       "    <tr>\n",
       "      <th>...</th>\n",
       "      <td>...</td>\n",
       "      <td>...</td>\n",
       "      <td>...</td>\n",
       "      <td>...</td>\n",
       "      <td>...</td>\n",
       "      <td>...</td>\n",
       "    </tr>\n",
       "    <tr>\n",
       "      <th>392</th>\n",
       "      <td>2.0</td>\n",
       "      <td>0.0</td>\n",
       "      <td>33</td>\n",
       "      <td>30</td>\n",
       "      <td>1.0</td>\n",
       "      <td>103106</td>\n",
       "    </tr>\n",
       "    <tr>\n",
       "      <th>393</th>\n",
       "      <td>2.0</td>\n",
       "      <td>0.0</td>\n",
       "      <td>31</td>\n",
       "      <td>19</td>\n",
       "      <td>1.0</td>\n",
       "      <td>150564</td>\n",
       "    </tr>\n",
       "    <tr>\n",
       "      <th>394</th>\n",
       "      <td>2.0</td>\n",
       "      <td>0.0</td>\n",
       "      <td>42</td>\n",
       "      <td>25</td>\n",
       "      <td>1.0</td>\n",
       "      <td>101738</td>\n",
       "    </tr>\n",
       "    <tr>\n",
       "      <th>395</th>\n",
       "      <td>2.0</td>\n",
       "      <td>0.0</td>\n",
       "      <td>25</td>\n",
       "      <td>15</td>\n",
       "      <td>1.0</td>\n",
       "      <td>95329</td>\n",
       "    </tr>\n",
       "    <tr>\n",
       "      <th>396</th>\n",
       "      <td>1.0</td>\n",
       "      <td>0.0</td>\n",
       "      <td>8</td>\n",
       "      <td>4</td>\n",
       "      <td>1.0</td>\n",
       "      <td>81035</td>\n",
       "    </tr>\n",
       "  </tbody>\n",
       "</table>\n",
       "<p>354 rows × 6 columns</p>\n",
       "</div>"
      ],
      "text/plain": [
       "     rank  discipline  yrs.since.phd  yrs.service  sex  salary\n",
       "0     2.0         1.0             19           18  1.0  139750\n",
       "1     2.0         1.0             20           16  1.0  173200\n",
       "2     1.0         1.0              4            3  1.0   79750\n",
       "3     2.0         1.0             45           39  1.0  115000\n",
       "4     2.0         1.0             40           41  1.0  141500\n",
       "..    ...         ...            ...          ...  ...     ...\n",
       "392   2.0         0.0             33           30  1.0  103106\n",
       "393   2.0         0.0             31           19  1.0  150564\n",
       "394   2.0         0.0             42           25  1.0  101738\n",
       "395   2.0         0.0             25           15  1.0   95329\n",
       "396   1.0         0.0              8            4  1.0   81035\n",
       "\n",
       "[354 rows x 6 columns]"
      ]
     },
     "execution_count": 50,
     "metadata": {},
     "output_type": "execute_result"
    }
   ],
   "source": [
    "df_new_z=df[(z<3).all(axis=1)]\n",
    "df_new_z"
   ]
  },
  {
   "cell_type": "code",
   "execution_count": 51,
   "id": "f56085fd",
   "metadata": {},
   "outputs": [
    {
     "data": {
      "text/plain": [
       "(354, 6)"
      ]
     },
     "execution_count": 51,
     "metadata": {},
     "output_type": "execute_result"
    }
   ],
   "source": [
    "df_new_z.shape"
   ]
  },
  {
   "cell_type": "code",
   "execution_count": null,
   "id": "9e21abdd",
   "metadata": {},
   "outputs": [],
   "source": [
    "# percentage loss of data"
   ]
  },
  {
   "cell_type": "code",
   "execution_count": 52,
   "id": "62e72468",
   "metadata": {},
   "outputs": [],
   "source": [
    "Data_loss=((397-354)/397)*100"
   ]
  },
  {
   "cell_type": "code",
   "execution_count": 53,
   "id": "b2e78d10",
   "metadata": {},
   "outputs": [
    {
     "data": {
      "text/plain": [
       "10.831234256926953"
      ]
     },
     "execution_count": 53,
     "metadata": {},
     "output_type": "execute_result"
    }
   ],
   "source": [
    "Data_loss"
   ]
  },
  {
   "cell_type": "code",
   "execution_count": 143,
   "id": "989aa7ce",
   "metadata": {},
   "outputs": [],
   "source": [
    "#"
   ]
  },
  {
   "cell_type": "code",
   "execution_count": 144,
   "id": "b273bf75",
   "metadata": {},
   "outputs": [],
   "source": [
    "# Seperating the data columns into features and target"
   ]
  },
  {
   "cell_type": "code",
   "execution_count": 54,
   "id": "f146cb49",
   "metadata": {},
   "outputs": [],
   "source": [
    "features=df.drop('salary',axis=1)\n",
    "target=df['salary']"
   ]
  },
  {
   "cell_type": "code",
   "execution_count": 146,
   "id": "cdbfb542",
   "metadata": {},
   "outputs": [],
   "source": [
    "# now we will use scalling technique for scaling the data using Min-Max Scaler"
   ]
  },
  {
   "cell_type": "code",
   "execution_count": 55,
   "id": "33c0ed1e",
   "metadata": {},
   "outputs": [],
   "source": [
    "from sklearn.preprocessing import MinMaxScaler\n",
    "mms=MinMaxScaler()\n",
    "from sklearn.linear_model import LinearRegression\n",
    "lr=LinearRegression()\n",
    "from sklearn.metrics import r2_score\n",
    "from sklearn.model_selection import train_test_split"
   ]
  },
  {
   "cell_type": "code",
   "execution_count": 56,
   "id": "a8e76434",
   "metadata": {},
   "outputs": [],
   "source": [
    "import warnings\n",
    "warnings.filterwarnings('ignore')"
   ]
  },
  {
   "cell_type": "code",
   "execution_count": 57,
   "id": "f69d0a0e",
   "metadata": {},
   "outputs": [
    {
     "name": "stdout",
     "output_type": "stream",
     "text": [
      "At random state 0,the training accuracy is:- 0.3611999954853077\n",
      "At random state 0,the testing accuracy is:- 0.4079258314975236\n",
      "\n",
      "\n",
      "At random state 1,the training accuracy is:- 0.3604245854198438\n",
      "At random state 1,the testing accuracy is:- 0.41633641876629457\n",
      "\n",
      "\n",
      "At random state 2,the training accuracy is:- 0.37547390964955596\n",
      "At random state 2,the testing accuracy is:- 0.3600189554526694\n",
      "\n",
      "\n",
      "At random state 3,the training accuracy is:- 0.3847313825130595\n",
      "At random state 3,the testing accuracy is:- 0.3293529875010861\n",
      "\n",
      "\n",
      "At random state 4,the training accuracy is:- 0.38517450334380465\n",
      "At random state 4,the testing accuracy is:- 0.304400813331562\n",
      "\n",
      "\n",
      "At random state 5,the training accuracy is:- 0.3950033630150771\n",
      "At random state 5,the testing accuracy is:- 0.2752907752774737\n",
      "\n",
      "\n",
      "At random state 6,the training accuracy is:- 0.3650308031752799\n",
      "At random state 6,the testing accuracy is:- 0.40189870806075667\n",
      "\n",
      "\n",
      "At random state 7,the training accuracy is:- 0.3575963886324032\n",
      "At random state 7,the testing accuracy is:- 0.43603149833368426\n",
      "\n",
      "\n",
      "At random state 8,the training accuracy is:- 0.37078641617615615\n",
      "At random state 8,the testing accuracy is:- 0.3520895860059552\n",
      "\n",
      "\n",
      "At random state 9,the training accuracy is:- 0.3689988332195654\n",
      "At random state 9,the testing accuracy is:- 0.3880754485440506\n",
      "\n",
      "\n",
      "At random state 10,the training accuracy is:- 0.3833769683025209\n",
      "At random state 10,the testing accuracy is:- 0.3237669060179075\n",
      "\n",
      "\n",
      "At random state 11,the training accuracy is:- 0.38471884156243197\n",
      "At random state 11,the testing accuracy is:- 0.2808308392930563\n",
      "\n",
      "\n",
      "At random state 12,the training accuracy is:- 0.37676668231129506\n",
      "At random state 12,the testing accuracy is:- 0.34397033297856505\n",
      "\n",
      "\n",
      "At random state 13,the training accuracy is:- 0.37914531495889015\n",
      "At random state 13,the testing accuracy is:- 0.3037213930266667\n",
      "\n",
      "\n",
      "At random state 14,the training accuracy is:- 0.4158978369713757\n",
      "At random state 14,the testing accuracy is:- 0.15184410537740634\n",
      "\n",
      "\n",
      "At random state 15,the training accuracy is:- 0.37127624600584885\n",
      "At random state 15,the testing accuracy is:- 0.35351934262062856\n",
      "\n",
      "\n",
      "At random state 16,the training accuracy is:- 0.3878621443484206\n",
      "At random state 16,the testing accuracy is:- 0.29241393404970406\n",
      "\n",
      "\n",
      "At random state 17,the training accuracy is:- 0.3897546182765135\n",
      "At random state 17,the testing accuracy is:- 0.26101811962187205\n",
      "\n",
      "\n",
      "At random state 18,the training accuracy is:- 0.3650413646278945\n",
      "At random state 18,the testing accuracy is:- 0.3698468335200642\n",
      "\n",
      "\n",
      "At random state 19,the training accuracy is:- 0.36478587974538945\n",
      "At random state 19,the testing accuracy is:- 0.39429266046792033\n",
      "\n",
      "\n",
      "At random state 20,the training accuracy is:- 0.3622414400227313\n",
      "At random state 20,the testing accuracy is:- 0.4010650535719702\n",
      "\n",
      "\n",
      "At random state 21,the training accuracy is:- 0.3935643702731856\n",
      "At random state 21,the testing accuracy is:- 0.28484864022169365\n",
      "\n",
      "\n",
      "At random state 22,the training accuracy is:- 0.3848789411044249\n",
      "At random state 22,the testing accuracy is:- 0.3105065511907835\n",
      "\n",
      "\n",
      "At random state 23,the training accuracy is:- 0.388340130912739\n",
      "At random state 23,the testing accuracy is:- 0.30908323002197435\n",
      "\n",
      "\n",
      "At random state 24,the training accuracy is:- 0.4009695516201146\n",
      "At random state 24,the testing accuracy is:- 0.23700622039991426\n",
      "\n",
      "\n",
      "At random state 25,the training accuracy is:- 0.3872852164225197\n",
      "At random state 25,the testing accuracy is:- 0.2857545713280303\n",
      "\n",
      "\n",
      "At random state 26,the training accuracy is:- 0.3734925217225621\n",
      "At random state 26,the testing accuracy is:- 0.3570465945472763\n",
      "\n",
      "\n",
      "At random state 27,the training accuracy is:- 0.3853612529960597\n",
      "At random state 27,the testing accuracy is:- 0.3200883336422755\n",
      "\n",
      "\n",
      "At random state 28,the training accuracy is:- 0.4053914345039713\n",
      "At random state 28,the testing accuracy is:- 0.22969703483016035\n",
      "\n",
      "\n",
      "At random state 29,the training accuracy is:- 0.40451288485532433\n",
      "At random state 29,the testing accuracy is:- 0.19765027396884882\n",
      "\n",
      "\n",
      "At random state 30,the training accuracy is:- 0.36693572181305\n",
      "At random state 30,the testing accuracy is:- 0.3783571251635153\n",
      "\n",
      "\n",
      "At random state 31,the training accuracy is:- 0.37953137501705136\n",
      "At random state 31,the testing accuracy is:- 0.32295138072829754\n",
      "\n",
      "\n",
      "At random state 32,the training accuracy is:- 0.3685576596306931\n",
      "At random state 32,the testing accuracy is:- 0.3671499580137658\n",
      "\n",
      "\n",
      "At random state 33,the training accuracy is:- 0.3746333242328249\n",
      "At random state 33,the testing accuracy is:- 0.3503249588399546\n",
      "\n",
      "\n",
      "At random state 34,the training accuracy is:- 0.3670604216412362\n",
      "At random state 34,the testing accuracy is:- 0.3924145850362385\n",
      "\n",
      "\n",
      "At random state 35,the training accuracy is:- 0.3849378452508392\n",
      "At random state 35,the testing accuracy is:- 0.3314798741757373\n",
      "\n",
      "\n",
      "At random state 36,the training accuracy is:- 0.3847552137593607\n",
      "At random state 36,the testing accuracy is:- 0.27039005927407944\n",
      "\n",
      "\n",
      "At random state 37,the training accuracy is:- 0.34899945766206086\n",
      "At random state 37,the testing accuracy is:- 0.4128426546458116\n",
      "\n",
      "\n",
      "At random state 38,the training accuracy is:- 0.38650707960273367\n",
      "At random state 38,the testing accuracy is:- 0.2833985042820414\n",
      "\n",
      "\n",
      "At random state 39,the training accuracy is:- 0.3706020285098687\n",
      "At random state 39,the testing accuracy is:- 0.3718833413484989\n",
      "\n",
      "\n",
      "At random state 40,the training accuracy is:- 0.3642294289210505\n",
      "At random state 40,the testing accuracy is:- 0.3925435827595456\n",
      "\n",
      "\n",
      "At random state 41,the training accuracy is:- 0.36091732884303906\n",
      "At random state 41,the testing accuracy is:- 0.4018359148946383\n",
      "\n",
      "\n",
      "At random state 42,the training accuracy is:- 0.4200558658334024\n",
      "At random state 42,the testing accuracy is:- 0.10796880791419872\n",
      "\n",
      "\n",
      "At random state 43,the training accuracy is:- 0.40414594484463107\n",
      "At random state 43,the testing accuracy is:- 0.2575409350804294\n",
      "\n",
      "\n",
      "At random state 44,the training accuracy is:- 0.3725463631852005\n",
      "At random state 44,the testing accuracy is:- 0.36713568508178307\n",
      "\n",
      "\n",
      "At random state 45,the training accuracy is:- 0.4137230485402982\n",
      "At random state 45,the testing accuracy is:- 0.22445225846745387\n",
      "\n",
      "\n",
      "At random state 46,the training accuracy is:- 0.34372562408831253\n",
      "At random state 46,the testing accuracy is:- 0.3896606094506979\n",
      "\n",
      "\n",
      "At random state 47,the training accuracy is:- 0.37188114106913284\n",
      "At random state 47,the testing accuracy is:- 0.3539587226598814\n",
      "\n",
      "\n",
      "At random state 48,the training accuracy is:- 0.36429183378263275\n",
      "At random state 48,the testing accuracy is:- 0.3979596000732688\n",
      "\n",
      "\n",
      "At random state 49,the training accuracy is:- 0.3775398557146239\n",
      "At random state 49,the testing accuracy is:- 0.33197433115663044\n",
      "\n",
      "\n",
      "At random state 50,the training accuracy is:- 0.37893923298505605\n",
      "At random state 50,the testing accuracy is:- 0.34563177771023335\n",
      "\n",
      "\n",
      "At random state 51,the training accuracy is:- 0.3748812535527186\n",
      "At random state 51,the testing accuracy is:- 0.34622301247708864\n",
      "\n",
      "\n",
      "At random state 52,the training accuracy is:- 0.3690443454685478\n",
      "At random state 52,the testing accuracy is:- 0.3682296312128154\n",
      "\n",
      "\n",
      "At random state 53,the training accuracy is:- 0.3646780402149976\n",
      "At random state 53,the testing accuracy is:- 0.3864862432119226\n",
      "\n",
      "\n",
      "At random state 54,the training accuracy is:- 0.38120976962990694\n",
      "At random state 54,the testing accuracy is:- 0.32307953267625455\n",
      "\n",
      "\n",
      "At random state 55,the training accuracy is:- 0.3804240550840484\n",
      "At random state 55,the testing accuracy is:- 0.32729199394177766\n",
      "\n",
      "\n",
      "At random state 56,the training accuracy is:- 0.38888132640425854\n",
      "At random state 56,the testing accuracy is:- 0.2619212862528706\n",
      "\n",
      "\n",
      "At random state 57,the training accuracy is:- 0.36282545034634295\n",
      "At random state 57,the testing accuracy is:- 0.4099319211959538\n",
      "\n",
      "\n",
      "At random state 58,the training accuracy is:- 0.3904276399883323\n",
      "At random state 58,the testing accuracy is:- 0.2808757033228064\n",
      "\n",
      "\n",
      "At random state 59,the training accuracy is:- 0.36918999968594823\n",
      "At random state 59,the testing accuracy is:- 0.3672167591130825\n",
      "\n",
      "\n",
      "At random state 60,the training accuracy is:- 0.3627615748615993\n",
      "At random state 60,the testing accuracy is:- 0.4342158637805855\n",
      "\n",
      "\n",
      "At random state 61,the training accuracy is:- 0.3596569629577453\n",
      "At random state 61,the testing accuracy is:- 0.4243091206283235\n",
      "\n",
      "\n",
      "At random state 62,the training accuracy is:- 0.36218820814339436\n",
      "At random state 62,the testing accuracy is:- 0.3402679535175037\n",
      "\n",
      "\n",
      "At random state 63,the training accuracy is:- 0.36020153914715225\n",
      "At random state 63,the testing accuracy is:- 0.4092594405269713\n",
      "\n",
      "\n",
      "At random state 64,the training accuracy is:- 0.34487518402780026\n",
      "At random state 64,the testing accuracy is:- 0.45685137910944673\n",
      "\n",
      "\n",
      "At random state 65,the training accuracy is:- 0.3966493366743805\n",
      "At random state 65,the testing accuracy is:- 0.271039118441054\n",
      "\n",
      "\n",
      "At random state 66,the training accuracy is:- 0.36941312653397507\n",
      "At random state 66,the testing accuracy is:- 0.37171519604211134\n",
      "\n",
      "\n",
      "At random state 67,the training accuracy is:- 0.3577974392746197\n",
      "At random state 67,the testing accuracy is:- 0.40893219589737706\n",
      "\n",
      "\n",
      "At random state 68,the training accuracy is:- 0.4112434481572016\n",
      "At random state 68,the testing accuracy is:- 0.18760305905186425\n",
      "\n",
      "\n",
      "At random state 69,the training accuracy is:- 0.3583537425297256\n",
      "At random state 69,the testing accuracy is:- 0.4055461597734453\n",
      "\n",
      "\n",
      "At random state 70,the training accuracy is:- 0.40782071088368554\n",
      "At random state 70,the testing accuracy is:- 0.12457420628140248\n",
      "\n",
      "\n",
      "At random state 71,the training accuracy is:- 0.3798566422299212\n",
      "At random state 71,the testing accuracy is:- 0.3310077740650834\n",
      "\n",
      "\n",
      "At random state 72,the training accuracy is:- 0.37306545398657165\n",
      "At random state 72,the testing accuracy is:- 0.33282576705225164\n",
      "\n",
      "\n",
      "At random state 73,the training accuracy is:- 0.3684736133822437\n",
      "At random state 73,the testing accuracy is:- 0.37565170848674045\n",
      "\n",
      "\n",
      "At random state 74,the training accuracy is:- 0.36328541761317845\n",
      "At random state 74,the testing accuracy is:- 0.4145405703104328\n",
      "\n",
      "\n",
      "At random state 75,the training accuracy is:- 0.3699093187667537\n",
      "At random state 75,the testing accuracy is:- 0.3766545083638232\n",
      "\n",
      "\n",
      "At random state 76,the training accuracy is:- 0.3893765947869847\n",
      "At random state 76,the testing accuracy is:- 0.24469967759754885\n",
      "\n",
      "\n",
      "At random state 77,the training accuracy is:- 0.36208736257404006\n",
      "At random state 77,the testing accuracy is:- 0.38689241011567266\n",
      "\n",
      "\n",
      "At random state 78,the training accuracy is:- 0.3936404592790972\n",
      "At random state 78,the testing accuracy is:- 0.27866530930150046\n",
      "\n",
      "\n",
      "At random state 79,the training accuracy is:- 0.3400734467804928\n",
      "At random state 79,the testing accuracy is:- 0.508490881969465\n",
      "\n",
      "\n",
      "At random state 80,the training accuracy is:- 0.34891747740210655\n",
      "At random state 80,the testing accuracy is:- 0.5086207408821504\n",
      "\n",
      "\n",
      "At random state 81,the training accuracy is:- 0.35513373474139565\n",
      "At random state 81,the testing accuracy is:- 0.4149346606972968\n",
      "\n",
      "\n",
      "At random state 82,the training accuracy is:- 0.37417707170637116\n",
      "At random state 82,the testing accuracy is:- 0.35099796023731\n",
      "\n",
      "\n",
      "At random state 83,the training accuracy is:- 0.377726947712559\n",
      "At random state 83,the testing accuracy is:- 0.3236720737678672\n",
      "\n",
      "\n",
      "At random state 84,the training accuracy is:- 0.38401378181768164\n",
      "At random state 84,the testing accuracy is:- 0.3127841540168671\n",
      "\n",
      "\n",
      "At random state 85,the training accuracy is:- 0.376142718876315\n",
      "At random state 85,the testing accuracy is:- 0.3500612740886736\n",
      "\n",
      "\n",
      "At random state 86,the training accuracy is:- 0.3767878645972712\n",
      "At random state 86,the testing accuracy is:- 0.3444389459787981\n",
      "\n",
      "\n",
      "At random state 87,the training accuracy is:- 0.386606834116077\n",
      "At random state 87,the testing accuracy is:- 0.2295416451299277\n",
      "\n",
      "\n",
      "At random state 88,the training accuracy is:- 0.3555900942301574\n",
      "At random state 88,the testing accuracy is:- 0.44627379242086973\n",
      "\n",
      "\n",
      "At random state 89,the training accuracy is:- 0.3776188229055102\n",
      "At random state 89,the testing accuracy is:- 0.33821112710879864\n",
      "\n",
      "\n",
      "At random state 90,the training accuracy is:- 0.35598740233084825\n",
      "At random state 90,the testing accuracy is:- 0.4188943675786001\n",
      "\n",
      "\n",
      "At random state 91,the training accuracy is:- 0.37189951588468795\n",
      "At random state 91,the testing accuracy is:- 0.3601565810059806\n",
      "\n",
      "\n",
      "At random state 92,the training accuracy is:- 0.37459606418072844\n",
      "At random state 92,the testing accuracy is:- 0.3541542254552805\n",
      "\n",
      "\n",
      "At random state 93,the training accuracy is:- 0.4045365985584488\n",
      "At random state 93,the testing accuracy is:- 0.2273757289684758\n",
      "\n",
      "\n",
      "At random state 94,the training accuracy is:- 0.39372739145675406\n",
      "At random state 94,the testing accuracy is:- 0.27206041164804473\n",
      "\n",
      "\n",
      "At random state 95,the training accuracy is:- 0.3862133774021912\n",
      "At random state 95,the testing accuracy is:- 0.3010575834925824\n",
      "\n",
      "\n",
      "At random state 96,the training accuracy is:- 0.3544193864212418\n",
      "At random state 96,the testing accuracy is:- 0.4253245406131324\n",
      "\n",
      "\n",
      "At random state 97,the training accuracy is:- 0.3641510940616147\n",
      "At random state 97,the testing accuracy is:- 0.4101498464906058\n",
      "\n",
      "\n",
      "At random state 98,the training accuracy is:- 0.34983395760007274\n",
      "At random state 98,the testing accuracy is:- 0.4322690928833405\n",
      "\n",
      "\n",
      "At random state 99,the training accuracy is:- 0.3640872612019751\n",
      "At random state 99,the testing accuracy is:- 0.41102180904046104\n",
      "\n",
      "\n"
     ]
    }
   ],
   "source": [
    "for i in range(0,100):\n",
    "    features_train,features_test,target_train,target_test=train_test_split(features,target,test_size=0.2,random_state=i)\n",
    "    lr.fit(features_train,target_train)\n",
    "    pred_train=lr.predict(features_train)\n",
    "    pred_test=lr.predict(features_test)\n",
    "    print(f\"At random state {i},the training accuracy is:- {r2_score(target_train,pred_train)}\")\n",
    "    print(f\"At random state {i},the testing accuracy is:- {r2_score(target_test,pred_test)}\")\n",
    "    print(\"\\n\")"
   ]
  },
  {
   "cell_type": "code",
   "execution_count": 58,
   "id": "c3f82945",
   "metadata": {},
   "outputs": [],
   "source": [
    "# Here we are selecting random state 39 being giving highest accuracy among the data."
   ]
  },
  {
   "cell_type": "code",
   "execution_count": 60,
   "id": "cf295b68",
   "metadata": {},
   "outputs": [],
   "source": [
    "#Splitting the data with Random state 39"
   ]
  },
  {
   "cell_type": "code",
   "execution_count": 62,
   "id": "d55e280e",
   "metadata": {},
   "outputs": [],
   "source": [
    "features_train,features_test,target_train,target_test=train_test_split(features,target,test_size=0.2,random_state=39)"
   ]
  },
  {
   "cell_type": "code",
   "execution_count": 63,
   "id": "71c8a4d1",
   "metadata": {},
   "outputs": [],
   "source": [
    "# Train the Model and fitting the model on training data"
   ]
  },
  {
   "cell_type": "code",
   "execution_count": 64,
   "id": "614bd529",
   "metadata": {},
   "outputs": [
    {
     "data": {
      "text/plain": [
       "LinearRegression()"
      ]
     },
     "execution_count": 64,
     "metadata": {},
     "output_type": "execute_result"
    }
   ],
   "source": [
    "lr.fit(features_train,target_train)"
   ]
  },
  {
   "cell_type": "code",
   "execution_count": 65,
   "id": "5fd3171d",
   "metadata": {},
   "outputs": [],
   "source": [
    "# Using Ptredict function for making thr prediction on test data"
   ]
  },
  {
   "cell_type": "code",
   "execution_count": 66,
   "id": "891c2041",
   "metadata": {},
   "outputs": [],
   "source": [
    "pred_test=lr.predict(features_test)"
   ]
  },
  {
   "cell_type": "code",
   "execution_count": 67,
   "id": "67198f58",
   "metadata": {},
   "outputs": [
    {
     "name": "stdout",
     "output_type": "stream",
     "text": [
      "0.3718833413484989\n"
     ]
    }
   ],
   "source": [
    "print(r2_score(target_test,pred_test))"
   ]
  },
  {
   "cell_type": "code",
   "execution_count": 68,
   "id": "79d02db5",
   "metadata": {},
   "outputs": [],
   "source": [
    "#"
   ]
  },
  {
   "cell_type": "code",
   "execution_count": 70,
   "id": "656184c5",
   "metadata": {},
   "outputs": [],
   "source": [
    "# Cross-Validation of the Model"
   ]
  },
  {
   "cell_type": "code",
   "execution_count": 71,
   "id": "44239b2e",
   "metadata": {},
   "outputs": [],
   "source": [
    "Train_accuracy=r2_score(target_train,pred_train)\n",
    "Test_accuracy=r2_score(target_test,pred_test)"
   ]
  },
  {
   "cell_type": "code",
   "execution_count": 72,
   "id": "6da473fb",
   "metadata": {},
   "outputs": [],
   "source": [
    "from sklearn.model_selection import cross_val_score"
   ]
  },
  {
   "cell_type": "code",
   "execution_count": 75,
   "id": "961ec3a4",
   "metadata": {},
   "outputs": [
    {
     "name": "stdout",
     "output_type": "stream",
     "text": [
      "At cross fold 2 the cv score is <built-in method mean of numpy.ndarray object at 0x000001E93C008030> and accuracy score for training is -0.4231558655921881 and accuracy for testing is 0.3718833413484989\n",
      "\n",
      "\n",
      "At cross fold 3 the cv score is <built-in method mean of numpy.ndarray object at 0x000001E93C008930> and accuracy score for training is -0.4231558655921881 and accuracy for testing is 0.3718833413484989\n",
      "\n",
      "\n",
      "At cross fold 4 the cv score is <built-in method mean of numpy.ndarray object at 0x000001E93C008ED0> and accuracy score for training is -0.4231558655921881 and accuracy for testing is 0.3718833413484989\n",
      "\n",
      "\n",
      "At cross fold 5 the cv score is <built-in method mean of numpy.ndarray object at 0x000001E93C008E70> and accuracy score for training is -0.4231558655921881 and accuracy for testing is 0.3718833413484989\n",
      "\n",
      "\n",
      "At cross fold 6 the cv score is <built-in method mean of numpy.ndarray object at 0x000001E93C01E690> and accuracy score for training is -0.4231558655921881 and accuracy for testing is 0.3718833413484989\n",
      "\n",
      "\n",
      "At cross fold 7 the cv score is <built-in method mean of numpy.ndarray object at 0x000001E93C0084B0> and accuracy score for training is -0.4231558655921881 and accuracy for testing is 0.3718833413484989\n",
      "\n",
      "\n",
      "At cross fold 8 the cv score is <built-in method mean of numpy.ndarray object at 0x000001E93C0081B0> and accuracy score for training is -0.4231558655921881 and accuracy for testing is 0.3718833413484989\n",
      "\n",
      "\n",
      "At cross fold 9 the cv score is <built-in method mean of numpy.ndarray object at 0x000001E93C008F30> and accuracy score for training is -0.4231558655921881 and accuracy for testing is 0.3718833413484989\n",
      "\n",
      "\n"
     ]
    }
   ],
   "source": [
    "for j in range(2,10):\n",
    "    cv_score=cross_val_score(lr,features,target,cv=j)\n",
    "    cv_mean=cv_score.mean\n",
    "    print(f\"At cross fold {j} the cv score is {cv_mean} and accuracy score for training is {Train_accuracy} and accuracy for testing is {Test_accuracy}\")\n",
    "    print(\"\\n\")\n",
    "    "
   ]
  },
  {
   "cell_type": "code",
   "execution_count": 76,
   "id": "1ab4eb4a",
   "metadata": {},
   "outputs": [],
   "source": [
    "# Here we can see that the number of folds dont have such impact on the accuracy and cv_score. So cv=1 is selected."
   ]
  },
  {
   "cell_type": "code",
   "execution_count": 77,
   "id": "67a545f0",
   "metadata": {},
   "outputs": [],
   "source": [
    "# Here we have handeled the problem of overfitting and underfitting by checking the training and test score."
   ]
  },
  {
   "cell_type": "code",
   "execution_count": 78,
   "id": "0545fa62",
   "metadata": {},
   "outputs": [],
   "source": [
    "# we will use scatter plot where X label is Actual Salary and Y Label is Predicted Salary"
   ]
  },
  {
   "cell_type": "code",
   "execution_count": 80,
   "id": "3288ac5d",
   "metadata": {},
   "outputs": [
    {
     "data": {
      "image/png": "[encoded data removed]",
      "text/plain": [
       "<Figure size 576x432 with 1 Axes>"
      ]
     },
     "metadata": {
      "needs_background": "light"
     },
     "output_type": "display_data"
    }
   ],
   "source": [
    "import matplotlib.pyplot as plt\n",
    "plt.figure(figsize=(8,6))\n",
    "plt.scatter(x=target_test, y=pred_test, color='r')\n",
    "plt.plot(target_test,target_test, color='b')\n",
    "plt.xlabel('Actual salary',fontsize=14)\n",
    "plt.ylabel('predicted salary',fontsize=14)\n",
    "plt.title('Linear Regression',fontsize=18)\n",
    "plt.savefig('lr.png')\n",
    "plt.show()"
   ]
  },
  {
   "cell_type": "code",
   "execution_count": 81,
   "id": "899d4bd1",
   "metadata": {},
   "outputs": [],
   "source": [
    "# Best fit line is not covering the most of datapoints which shows not a good fit of model"
   ]
  },
  {
   "cell_type": "code",
   "execution_count": 82,
   "id": "54777bea",
   "metadata": {},
   "outputs": [],
   "source": [
    "# Using REGULARIZATION METHOD: LASSO"
   ]
  },
  {
   "cell_type": "code",
   "execution_count": 84,
   "id": "a3ccffd9",
   "metadata": {},
   "outputs": [],
   "source": [
    "from sklearn.model_selection import GridSearchCV\n",
    "from sklearn.model_selection import cross_val_score\n",
    "import warnings\n",
    "warnings.filterwarnings('ignore')"
   ]
  },
  {
   "cell_type": "code",
   "execution_count": 85,
   "id": "d032e8d2",
   "metadata": {},
   "outputs": [],
   "source": [
    "# Using LASSO Method"
   ]
  },
  {
   "cell_type": "code",
   "execution_count": 86,
   "id": "3c58d724",
   "metadata": {},
   "outputs": [
    {
     "name": "stdout",
     "output_type": "stream",
     "text": [
      "{'alpha': 10, 'random_state': 0}\n"
     ]
    }
   ],
   "source": [
    "from sklearn.linear_model import Lasso\n",
    "parameters = {'alpha':[.0001, .001, .01, .1, 1, 10],\n",
    "             'random_state':list(range(0,10))}\n",
    "ls = Lasso()\n",
    "clf = GridSearchCV(ls,parameters)\n",
    "clf.fit(features_train,target_train)\n",
    "print(clf.best_params_)"
   ]
  },
  {
   "cell_type": "code",
   "execution_count": 87,
   "id": "e96e36f5",
   "metadata": {},
   "outputs": [],
   "source": [
    "# Best parameters extracted from LASSO model is there which can increase the performance of Model.\n",
    "# Here we used GridSearchCV method under LASSO method which is hyperparameter tuning model and hyperparameter tuning model is used to check the performance of the model\n",
    "# GridSearchCV method is used to take the combination of parameters and out of that combinations it will select the best combinations that will maximise the performance of the model.\n",
    "# Here the Parameters are alpha and in alpha we have list of values and in random state we have taken values in the range of 1 to 10.\n",
    "# then in GridSearchCV we have given the model name and after taht we are fitting the training data into model and then after that we are checking the best parameters\n",
    "# we need to consider the best extracted model and train the model with these parameters.\n",
    "# from this extracted output {'alpha': 10, 'random_state': 0} ,the performance of LASSO model will increse."
   ]
  },
  {
   "cell_type": "code",
   "execution_count": 88,
   "id": "4b7261b5",
   "metadata": {},
   "outputs": [],
   "source": [
    "# Final Model Training"
   ]
  },
  {
   "cell_type": "code",
   "execution_count": 89,
   "id": "f346823f",
   "metadata": {},
   "outputs": [
    {
     "data": {
      "text/plain": [
       "37.060201017386504"
      ]
     },
     "execution_count": 89,
     "metadata": {},
     "output_type": "execute_result"
    }
   ],
   "source": [
    "ls = Lasso(alpha=1,random_state=0)\n",
    "ls.fit(features_train,target_train)\n",
    "ls_score_training = ls.score(features_train,target_train)\n",
    "pred_ls = ls.predict(features_test)\n",
    "ls_score_training*100"
   ]
  },
  {
   "cell_type": "code",
   "execution_count": 90,
   "id": "a6c397da",
   "metadata": {},
   "outputs": [],
   "source": [
    "# Here we are checking the predection i.e ls score which gives the accuracy directly. here we are getting thr accuracy for our training data only."
   ]
  },
  {
   "cell_type": "code",
   "execution_count": 91,
   "id": "ddbc7c6d",
   "metadata": {},
   "outputs": [],
   "source": [
    "# Again we are making the prediction and checking the r2 score on the test data."
   ]
  },
  {
   "cell_type": "code",
   "execution_count": 93,
   "id": "e9c4f70f",
   "metadata": {},
   "outputs": [],
   "source": [
    "pred_ls = ls.predict(features_test)"
   ]
  },
  {
   "cell_type": "code",
   "execution_count": 94,
   "id": "8cf2bcf7",
   "metadata": {},
   "outputs": [
    {
     "data": {
      "text/plain": [
       "37.18969753610193"
      ]
     },
     "execution_count": 94,
     "metadata": {},
     "output_type": "execute_result"
    }
   ],
   "source": [
    "lss = r2_score(target_test,pred_ls)\n",
    "lss*100"
   ]
  },
  {
   "cell_type": "code",
   "execution_count": 95,
   "id": "7379866b",
   "metadata": {},
   "outputs": [],
   "source": [
    "# from above observation there is very less difference between the accuracy of training score and r2 score so we need to check the cross validation score for the regularization method."
   ]
  },
  {
   "cell_type": "code",
   "execution_count": 96,
   "id": "265072fa",
   "metadata": {},
   "outputs": [],
   "source": [
    "# Checking Cross validation for regularization method."
   ]
  },
  {
   "cell_type": "code",
   "execution_count": 102,
   "id": "1ebd4c2a",
   "metadata": {},
   "outputs": [
    {
     "data": {
      "text/plain": [
       "32.29878996668922"
      ]
     },
     "execution_count": 102,
     "metadata": {},
     "output_type": "execute_result"
    }
   ],
   "source": [
    "cv_score=cross_val_score(ls,features,target,cv=10)\n",
    "cv_mean=cv_score.mean()\n",
    "cv_mean*100"
   ]
  },
  {
   "cell_type": "code",
   "execution_count": 103,
   "id": "187e3b99",
   "metadata": {},
   "outputs": [],
   "source": [
    "# Now we use RANDOM FOREST MODEL"
   ]
  },
  {
   "cell_type": "code",
   "execution_count": 106,
   "id": "8b9e3660",
   "metadata": {},
   "outputs": [
    {
     "name": "stdout",
     "output_type": "stream",
     "text": [
      "R2 Score: 11.268470369956384\n",
      "cross val Score: 30.53505973985636\n"
     ]
    }
   ],
   "source": [
    "from sklearn.ensemble import RandomForestRegressor\n",
    "rf= RandomForestRegressor(criterion=\"mae\",max_features=\"auto\")\n",
    "rf.fit(features_train, target_train)\n",
    "rf.score(features_train, target_train)\n",
    "pred_decision = rf.predict(features_test)\n",
    "\n",
    "rfs = r2_score(target_test,pred_decision)\n",
    "print('R2 Score:',rfs*100)\n",
    "\n",
    "rfscore = cross_val_score(rf,features,target,cv=10)\n",
    "rfc = rfscore.mean()\n",
    "print('cross val Score:',rfc*100)"
   ]
  },
  {
   "cell_type": "code",
   "execution_count": 107,
   "id": "ebf55e1b",
   "metadata": {},
   "outputs": [],
   "source": [
    "# we are getting the model accuracy at 11.26 percent and cross validation score 30.53% which shows that our model is not performing well."
   ]
  },
  {
   "cell_type": "code",
   "execution_count": 108,
   "id": "f7f64a0d",
   "metadata": {},
   "outputs": [],
   "source": [
    "# ENSEMBLE TECHNIQUE: this technique is used to increase the performance of model"
   ]
  },
  {
   "cell_type": "code",
   "execution_count": 112,
   "id": "da98d4d8",
   "metadata": {},
   "outputs": [
    {
     "name": "stdout",
     "output_type": "stream",
     "text": [
      "{'criterion': 'mae', 'max_features': 'log2'}\n"
     ]
    }
   ],
   "source": [
    "from sklearn.model_selection import GridSearchCV\n",
    "from sklearn.ensemble import RandomForestRegressor\n",
    "\n",
    "parameters = {'criterion':['mse', 'mae'],\n",
    "             'max_features':[\"auto\", \"sqrt\", \"log2\"]}\n",
    "rf =RandomForestRegressor()\n",
    "clf = GridSearchCV(rf,parameters)\n",
    "clf.fit(features_train,target_train)\n",
    "print(clf.best_params_)"
   ]
  },
  {
   "cell_type": "code",
   "execution_count": 113,
   "id": "f5f93199",
   "metadata": {},
   "outputs": [],
   "source": [
    "import pickle\n",
    "filename = 'salary.pk1'\n",
    "pickle.dump(rf, open(filename, 'wb'))"
   ]
  },
  {
   "cell_type": "code",
   "execution_count": 114,
   "id": "017c73e9",
   "metadata": {},
   "outputs": [],
   "source": [
    "# CONCLUSION"
   ]
  },
  {
   "cell_type": "code",
   "execution_count": null,
   "id": "d61ae221",
   "metadata": {},
   "outputs": [],
   "source": [
    "loaded_model = pickle.load(open('salary.pk1', 'rb'))\n",
    "result = loaded_model.score(features_test, target_test)\n",
    "print(result*100)"
   ]
  },
  {
   "cell_type": "code",
   "execution_count": null,
   "id": "487a9aab",
   "metadata": {},
   "outputs": [],
   "source": []
  }
 ],
 "metadata": {
  "kernelspec": {
   "display_name": "Python 3 (ipykernel)",
   "language": "python",
   "name": "python3"
  },
  "language_info": {
   "codemirror_mode": {
    "name": "ipython",
    "version": 3
   },
   "file_extension": ".py",
   "mimetype": "text/x-python",
   "name": "python",
   "nbconvert_exporter": "python",
   "pygments_lexer": "ipython3",
   "version": "3.9.7"
  }
 },
 "nbformat": 4,
 "nbformat_minor": 5
}
